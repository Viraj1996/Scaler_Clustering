{
 "cells": [
  {
   "cell_type": "markdown",
   "metadata": {},
   "source": [
    "### Problem Statement:\n",
    "Scaler is an online tech-versity offering intensive computer science & Data Science courses through live classes delivered by tech leaders and subject matter experts. The meticulously structured program enhances the skills of software professionals by offering a modern curriculum with exposure to the latest technologies. It is a product by InterviewBit.\n",
    "\n",
    "You are working as a data scientist with the analytics vertical of Scaler, focused on profiling the best companies and job positions to work for from the Scaler database. You are provided with the information for a segment of learners and tasked to cluster them on the basis of their job profile, company, and other features. Ideally, these clusters should have similar characteristics."
   ]
  },
  {
   "cell_type": "markdown",
   "metadata": {},
   "source": [
    "### Data Dictionary:\n",
    "\n",
    "‘Unnamed 0’- Index of the dataset<br>\n",
    "Email_hash- Anonymised Personal Identifiable Information (PII)<br>\n",
    "Company_hash- Current employer of the learner<br>\n",
    "orgyear- Employment start date<br>\n",
    "CTC- Current CTC<br>\n",
    "Job_position- Job profile in the company<br>\n",
    "CTC_updated_year: Year in which CTC got updated (Yearly increments, Promotions)"
   ]
  },
  {
   "cell_type": "code",
   "execution_count": 119,
   "metadata": {},
   "outputs": [],
   "source": [
    "### Importing necessary libraries\n",
    "\n",
    "import numpy as np\n",
    "import pandas as pd\n",
    "import seaborn as sns\n",
    "import matplotlib.pyplot as plt\n",
    "\n",
    "\n",
    "import warnings\n",
    "warnings.filterwarnings(\"ignore\")\n",
    "\n",
    "\n",
    "import matplotlib.pyplot as plt\n",
    "from sklearn import metrics\n",
    "from sklearn.metrics import confusion_matrix\n",
    "from sklearn.metrics import classification_report\n",
    "from sklearn.metrics import ConfusionMatrixDisplay\n",
    "from sklearn.metrics import roc_auc_score\n",
    "from sklearn.metrics import roc_curve\n",
    "from sklearn.metrics import precision_recall_curve\n",
    "from sklearn.preprocessing import MinMaxScaler\n",
    "from sklearn.metrics import (accuracy_score, confusion_matrix, classification_report,roc_auc_score, roc_curve, auc)\n",
    "from statsmodels.stats.outliers_influence import variance_inflation_factor\n",
    "from sklearn.model_selection import train_test_split, KFold, cross_val_score\n",
    "from imblearn.over_sampling import SMOTE"
   ]
  },
  {
   "cell_type": "code",
   "execution_count": 120,
   "metadata": {},
   "outputs": [],
   "source": [
    "#loading the dataset\n",
    "\n",
    "df = pd.read_csv(r\"D:\\Scaler Case study\\Business Case Scaler - Clustering\\scaler_clustering.csv\")"
   ]
  },
  {
   "cell_type": "code",
   "execution_count": 121,
   "metadata": {},
   "outputs": [
    {
     "data": {
      "text/html": [
       "<div>\n",
       "<style scoped>\n",
       "    .dataframe tbody tr th:only-of-type {\n",
       "        vertical-align: middle;\n",
       "    }\n",
       "\n",
       "    .dataframe tbody tr th {\n",
       "        vertical-align: top;\n",
       "    }\n",
       "\n",
       "    .dataframe thead th {\n",
       "        text-align: right;\n",
       "    }\n",
       "</style>\n",
       "<table border=\"1\" class=\"dataframe\">\n",
       "  <thead>\n",
       "    <tr style=\"text-align: right;\">\n",
       "      <th></th>\n",
       "      <th>Unnamed: 0</th>\n",
       "      <th>company_hash</th>\n",
       "      <th>email_hash</th>\n",
       "      <th>orgyear</th>\n",
       "      <th>ctc</th>\n",
       "      <th>job_position</th>\n",
       "      <th>ctc_updated_year</th>\n",
       "    </tr>\n",
       "  </thead>\n",
       "  <tbody>\n",
       "    <tr>\n",
       "      <th>0</th>\n",
       "      <td>0</td>\n",
       "      <td>atrgxnnt xzaxv</td>\n",
       "      <td>6de0a4417d18ab14334c3f43397fc13b30c35149d70c05...</td>\n",
       "      <td>2016.0</td>\n",
       "      <td>1100000</td>\n",
       "      <td>Other</td>\n",
       "      <td>2020.0</td>\n",
       "    </tr>\n",
       "    <tr>\n",
       "      <th>1</th>\n",
       "      <td>1</td>\n",
       "      <td>qtrxvzwt xzegwgbb rxbxnta</td>\n",
       "      <td>b0aaf1ac138b53cb6e039ba2c3d6604a250d02d5145c10...</td>\n",
       "      <td>2018.0</td>\n",
       "      <td>449999</td>\n",
       "      <td>FullStack Engineer</td>\n",
       "      <td>2019.0</td>\n",
       "    </tr>\n",
       "    <tr>\n",
       "      <th>2</th>\n",
       "      <td>2</td>\n",
       "      <td>ojzwnvwnxw vx</td>\n",
       "      <td>4860c670bcd48fb96c02a4b0ae3608ae6fdd98176112e9...</td>\n",
       "      <td>2015.0</td>\n",
       "      <td>2000000</td>\n",
       "      <td>Backend Engineer</td>\n",
       "      <td>2020.0</td>\n",
       "    </tr>\n",
       "    <tr>\n",
       "      <th>3</th>\n",
       "      <td>3</td>\n",
       "      <td>ngpgutaxv</td>\n",
       "      <td>effdede7a2e7c2af664c8a31d9346385016128d66bbc58...</td>\n",
       "      <td>2017.0</td>\n",
       "      <td>700000</td>\n",
       "      <td>Backend Engineer</td>\n",
       "      <td>2019.0</td>\n",
       "    </tr>\n",
       "    <tr>\n",
       "      <th>4</th>\n",
       "      <td>4</td>\n",
       "      <td>qxen sqghu</td>\n",
       "      <td>6ff54e709262f55cb999a1c1db8436cb2055d8f79ab520...</td>\n",
       "      <td>2017.0</td>\n",
       "      <td>1400000</td>\n",
       "      <td>FullStack Engineer</td>\n",
       "      <td>2019.0</td>\n",
       "    </tr>\n",
       "  </tbody>\n",
       "</table>\n",
       "</div>"
      ],
      "text/plain": [
       "   Unnamed: 0               company_hash  \\\n",
       "0           0             atrgxnnt xzaxv   \n",
       "1           1  qtrxvzwt xzegwgbb rxbxnta   \n",
       "2           2              ojzwnvwnxw vx   \n",
       "3           3                  ngpgutaxv   \n",
       "4           4                 qxen sqghu   \n",
       "\n",
       "                                          email_hash  orgyear      ctc  \\\n",
       "0  6de0a4417d18ab14334c3f43397fc13b30c35149d70c05...   2016.0  1100000   \n",
       "1  b0aaf1ac138b53cb6e039ba2c3d6604a250d02d5145c10...   2018.0   449999   \n",
       "2  4860c670bcd48fb96c02a4b0ae3608ae6fdd98176112e9...   2015.0  2000000   \n",
       "3  effdede7a2e7c2af664c8a31d9346385016128d66bbc58...   2017.0   700000   \n",
       "4  6ff54e709262f55cb999a1c1db8436cb2055d8f79ab520...   2017.0  1400000   \n",
       "\n",
       "         job_position  ctc_updated_year  \n",
       "0               Other            2020.0  \n",
       "1  FullStack Engineer            2019.0  \n",
       "2    Backend Engineer            2020.0  \n",
       "3    Backend Engineer            2019.0  \n",
       "4  FullStack Engineer            2019.0  "
      ]
     },
     "execution_count": 121,
     "metadata": {},
     "output_type": "execute_result"
    }
   ],
   "source": [
    "df.head()"
   ]
  },
  {
   "cell_type": "markdown",
   "metadata": {},
   "source": [
    "### Analyzing basic metrics"
   ]
  },
  {
   "cell_type": "code",
   "execution_count": 122,
   "metadata": {},
   "outputs": [
    {
     "data": {
      "text/plain": [
       "(205843, 7)"
      ]
     },
     "execution_count": 122,
     "metadata": {},
     "output_type": "execute_result"
    }
   ],
   "source": [
    "df.shape #The dataset has 205843 rows and 7 columns"
   ]
  },
  {
   "cell_type": "code",
   "execution_count": 123,
   "metadata": {},
   "outputs": [
    {
     "name": "stdout",
     "output_type": "stream",
     "text": [
      "<class 'pandas.core.frame.DataFrame'>\n",
      "RangeIndex: 205843 entries, 0 to 205842\n",
      "Data columns (total 7 columns):\n",
      " #   Column            Non-Null Count   Dtype  \n",
      "---  ------            --------------   -----  \n",
      " 0   Unnamed: 0        205843 non-null  int64  \n",
      " 1   company_hash      205799 non-null  object \n",
      " 2   email_hash        205843 non-null  object \n",
      " 3   orgyear           205757 non-null  float64\n",
      " 4   ctc               205843 non-null  int64  \n",
      " 5   job_position      153281 non-null  object \n",
      " 6   ctc_updated_year  205843 non-null  float64\n",
      "dtypes: float64(2), int64(2), object(3)\n",
      "memory usage: 11.0+ MB\n"
     ]
    }
   ],
   "source": [
    "df.info()"
   ]
  },
  {
   "cell_type": "code",
   "execution_count": 124,
   "metadata": {},
   "outputs": [
    {
     "data": {
      "text/plain": [
       "Unnamed: 0            int64\n",
       "company_hash         object\n",
       "email_hash           object\n",
       "orgyear             float64\n",
       "ctc                   int64\n",
       "job_position         object\n",
       "ctc_updated_year    float64\n",
       "dtype: object"
      ]
     },
     "execution_count": 124,
     "metadata": {},
     "output_type": "execute_result"
    }
   ],
   "source": [
    "#Checking data types of each column\n",
    "\n",
    "df.dtypes"
   ]
  },
  {
   "cell_type": "code",
   "execution_count": 125,
   "metadata": {},
   "outputs": [],
   "source": [
    "#Dropping the \"Unnamed\" column so that our model does not build some understanding based on row numbers leading to wrong o/p.\n",
    "\n",
    "df.drop(['Unnamed: 0'],axis=1,inplace=True)"
   ]
  },
  {
   "cell_type": "code",
   "execution_count": 126,
   "metadata": {},
   "outputs": [
    {
     "data": {
      "text/plain": [
       "company_hash         37299\n",
       "email_hash          153443\n",
       "orgyear                 77\n",
       "ctc                   3360\n",
       "job_position          1017\n",
       "ctc_updated_year         7\n",
       "dtype: int64"
      ]
     },
     "execution_count": 126,
     "metadata": {},
     "output_type": "execute_result"
    }
   ],
   "source": [
    "df.nunique() #Checking unique values in each column"
   ]
  },
  {
   "cell_type": "code",
   "execution_count": 127,
   "metadata": {},
   "outputs": [
    {
     "data": {
      "text/plain": [
       "company_hash         0.021376\n",
       "email_hash           0.000000\n",
       "orgyear              0.041779\n",
       "ctc                  0.000000\n",
       "job_position        25.534995\n",
       "ctc_updated_year     0.000000\n",
       "dtype: float64"
      ]
     },
     "execution_count": 127,
     "metadata": {},
     "output_type": "execute_result"
    }
   ],
   "source": [
    "#Checking missing values\n",
    "\n",
    "(df.isna().sum()/len(df))*100"
   ]
  },
  {
   "cell_type": "code",
   "execution_count": 128,
   "metadata": {},
   "outputs": [
    {
     "data": {
      "text/html": [
       "<div>\n",
       "<style scoped>\n",
       "    .dataframe tbody tr th:only-of-type {\n",
       "        vertical-align: middle;\n",
       "    }\n",
       "\n",
       "    .dataframe tbody tr th {\n",
       "        vertical-align: top;\n",
       "    }\n",
       "\n",
       "    .dataframe thead th {\n",
       "        text-align: right;\n",
       "    }\n",
       "</style>\n",
       "<table border=\"1\" class=\"dataframe\">\n",
       "  <thead>\n",
       "    <tr style=\"text-align: right;\">\n",
       "      <th></th>\n",
       "      <th>orgyear</th>\n",
       "      <th>ctc</th>\n",
       "      <th>ctc_updated_year</th>\n",
       "    </tr>\n",
       "  </thead>\n",
       "  <tbody>\n",
       "    <tr>\n",
       "      <th>count</th>\n",
       "      <td>205757.000000</td>\n",
       "      <td>2.058430e+05</td>\n",
       "      <td>205843.000000</td>\n",
       "    </tr>\n",
       "    <tr>\n",
       "      <th>mean</th>\n",
       "      <td>2014.882750</td>\n",
       "      <td>2.271685e+06</td>\n",
       "      <td>2019.628231</td>\n",
       "    </tr>\n",
       "    <tr>\n",
       "      <th>std</th>\n",
       "      <td>63.571115</td>\n",
       "      <td>1.180091e+07</td>\n",
       "      <td>1.325104</td>\n",
       "    </tr>\n",
       "    <tr>\n",
       "      <th>min</th>\n",
       "      <td>0.000000</td>\n",
       "      <td>2.000000e+00</td>\n",
       "      <td>2015.000000</td>\n",
       "    </tr>\n",
       "    <tr>\n",
       "      <th>25%</th>\n",
       "      <td>2013.000000</td>\n",
       "      <td>5.300000e+05</td>\n",
       "      <td>2019.000000</td>\n",
       "    </tr>\n",
       "    <tr>\n",
       "      <th>50%</th>\n",
       "      <td>2016.000000</td>\n",
       "      <td>9.500000e+05</td>\n",
       "      <td>2020.000000</td>\n",
       "    </tr>\n",
       "    <tr>\n",
       "      <th>75%</th>\n",
       "      <td>2018.000000</td>\n",
       "      <td>1.700000e+06</td>\n",
       "      <td>2021.000000</td>\n",
       "    </tr>\n",
       "    <tr>\n",
       "      <th>max</th>\n",
       "      <td>20165.000000</td>\n",
       "      <td>1.000150e+09</td>\n",
       "      <td>2021.000000</td>\n",
       "    </tr>\n",
       "  </tbody>\n",
       "</table>\n",
       "</div>"
      ],
      "text/plain": [
       "             orgyear           ctc  ctc_updated_year\n",
       "count  205757.000000  2.058430e+05     205843.000000\n",
       "mean     2014.882750  2.271685e+06       2019.628231\n",
       "std        63.571115  1.180091e+07          1.325104\n",
       "min         0.000000  2.000000e+00       2015.000000\n",
       "25%      2013.000000  5.300000e+05       2019.000000\n",
       "50%      2016.000000  9.500000e+05       2020.000000\n",
       "75%      2018.000000  1.700000e+06       2021.000000\n",
       "max     20165.000000  1.000150e+09       2021.000000"
      ]
     },
     "execution_count": 128,
     "metadata": {},
     "output_type": "execute_result"
    }
   ],
   "source": [
    "#Checking Stastical summary of the data\n",
    "\n",
    "df.describe()"
   ]
  },
  {
   "cell_type": "raw",
   "metadata": {},
   "source": [
    "The range of CTC is from Rs 2 to Rs 1000150000. Rs 2 cannot be CTC. We will have to deal with this data point"
   ]
  },
  {
   "cell_type": "code",
   "execution_count": 129,
   "metadata": {},
   "outputs": [],
   "source": [
    "## Checking unique value and value counts of the columns\n",
    "\n",
    "def dist_check(df, col_name):\n",
    "  print(\"Unique values =\", df[col_name].unique())\n",
    "  print(\"Value counts :\")\n",
    "  print(df[col_name].value_counts())"
   ]
  },
  {
   "cell_type": "code",
   "execution_count": 130,
   "metadata": {},
   "outputs": [
    {
     "name": "stdout",
     "output_type": "stream",
     "text": [
      "orgyear -\n",
      "Unique values = [2.0160e+03 2.0180e+03 2.0150e+03 2.0170e+03 2.0190e+03 2.0200e+03\n",
      " 2.0120e+03 2.0130e+03 2.0030e+03 2.0060e+03 2.0140e+03 2.0110e+03\n",
      " 2.0210e+03 2.0080e+03 2.0040e+03 2.0220e+03 2.0090e+03 2.0050e+03\n",
      " 2.0100e+03 2.0070e+03 2.0000e+03 2.0020e+03 2.0230e+03 2.0010e+03\n",
      " 1.9810e+03 2.0310e+03        nan 2.0240e+03 1.9960e+03 1.9990e+03\n",
      " 2.1060e+03 1.9970e+03 1.9940e+03 1.9950e+03 1.9920e+03 1.9730e+03\n",
      " 1.9910e+03 1.9980e+03 1.9900e+03 1.9930e+03 1.9880e+03 2.0250e+03\n",
      " 2.0290e+03 0.0000e+00 2.0800e+02 1.9850e+03 2.0900e+02 2.0600e+02\n",
      " 1.9820e+03 2.0260e+03 1.9700e+03 2.1010e+03 1.9720e+03 2.1070e+03\n",
      " 1.9860e+03 1.9890e+03 9.1000e+01 1.9870e+03 3.0000e+00 2.0270e+03\n",
      " 2.0000e+00 1.9760e+03 4.0000e+00 5.0000e+00 1.9710e+03 1.9770e+03\n",
      " 1.9840e+03 8.3000e+01 1.0000e+00 1.9790e+03 2.0280e+03 2.2040e+03\n",
      " 3.8000e+01 1.9000e+03 2.0100e+02 6.0000e+00 2.0165e+04 2.0000e+02]\n",
      "Value counts :\n",
      "2018.0    25256\n",
      "2019.0    23427\n",
      "2017.0    23239\n",
      "2016.0    23043\n",
      "2015.0    20610\n",
      "          ...  \n",
      "2107.0        1\n",
      "1972.0        1\n",
      "2101.0        1\n",
      "208.0         1\n",
      "200.0         1\n",
      "Name: orgyear, Length: 77, dtype: int64\n",
      "\n",
      "\n",
      "ctc -\n",
      "Unique values = [1100000  449999 2000000 ... 5266000  234000 3327000]\n",
      "Value counts :\n",
      "600000     7832\n",
      "400000     7598\n",
      "1000000    7581\n",
      "500000     7242\n",
      "800000     6752\n",
      "           ... \n",
      "1916000       1\n",
      "5340000       1\n",
      "2305000       1\n",
      "4225000       1\n",
      "3327000       1\n",
      "Name: ctc, Length: 3360, dtype: int64\n",
      "\n",
      "\n",
      "ctc_updated_year -\n",
      "Unique values = [2020. 2019. 2021. 2017. 2016. 2015. 2018.]\n",
      "Value counts :\n",
      "2019.0    68688\n",
      "2021.0    64976\n",
      "2020.0    49444\n",
      "2017.0     7561\n",
      "2018.0     6746\n",
      "2016.0     5501\n",
      "2015.0     2927\n",
      "Name: ctc_updated_year, dtype: int64\n",
      "\n",
      "\n"
     ]
    }
   ],
   "source": [
    "column_list = ['orgyear','ctc','ctc_updated_year']\n",
    "for col in column_list: \n",
    "  print(col, \"-\")\n",
    "  dist_check(df, col)\n",
    "  print(\"\\n\")"
   ]
  },
  {
   "cell_type": "markdown",
   "metadata": {},
   "source": [
    "### Regex for cleaning company names"
   ]
  },
  {
   "cell_type": "code",
   "execution_count": 131,
   "metadata": {},
   "outputs": [],
   "source": [
    "df['company_hash'] = df['company_hash'].str.replace('[^A-Za-z\\s]+', '')"
   ]
  },
  {
   "cell_type": "code",
   "execution_count": 132,
   "metadata": {},
   "outputs": [
    {
     "data": {
      "text/plain": [
       "0               atrgxnnt xzaxv\n",
       "1    qtrxvzwt xzegwgbb rxbxnta\n",
       "2                ojzwnvwnxw vx\n",
       "3                    ngpgutaxv\n",
       "4                   qxen sqghu\n",
       "Name: company_hash, dtype: object"
      ]
     },
     "execution_count": 132,
     "metadata": {},
     "output_type": "execute_result"
    }
   ],
   "source": [
    "df['company_hash'].head()"
   ]
  },
  {
   "cell_type": "markdown",
   "metadata": {},
   "source": [
    "### Dropping duplicate records"
   ]
  },
  {
   "cell_type": "code",
   "execution_count": 133,
   "metadata": {},
   "outputs": [],
   "source": [
    "df = df.drop_duplicates(['email_hash','company_hash'])"
   ]
  },
  {
   "cell_type": "code",
   "execution_count": 134,
   "metadata": {},
   "outputs": [
    {
     "data": {
      "text/plain": [
       "(160311, 6)"
      ]
     },
     "execution_count": 134,
     "metadata": {},
     "output_type": "execute_result"
    }
   ],
   "source": [
    "df.shape"
   ]
  },
  {
   "cell_type": "code",
   "execution_count": 135,
   "metadata": {},
   "outputs": [
    {
     "data": {
      "text/plain": [
       "company_hash         37225\n",
       "email_hash          153443\n",
       "orgyear                 77\n",
       "ctc                   3278\n",
       "job_position           751\n",
       "ctc_updated_year         7\n",
       "dtype: int64"
      ]
     },
     "execution_count": 135,
     "metadata": {},
     "output_type": "execute_result"
    }
   ],
   "source": [
    "df.nunique()"
   ]
  },
  {
   "cell_type": "code",
   "execution_count": 136,
   "metadata": {},
   "outputs": [
    {
     "name": "stdout",
     "output_type": "stream",
     "text": [
      "True     123085\n",
      "False     37226\n",
      "Name: company_hash, dtype: int64\n"
     ]
    }
   ],
   "source": [
    "duplicate_values = df['company_hash'].duplicated().value_counts()\n",
    "print(duplicate_values)"
   ]
  },
  {
   "cell_type": "code",
   "execution_count": 137,
   "metadata": {},
   "outputs": [
    {
     "name": "stdout",
     "output_type": "stream",
     "text": [
      "False    153443\n",
      "True       6868\n",
      "Name: email_hash, dtype: int64\n"
     ]
    }
   ],
   "source": [
    "duplicate_values1 = df['email_hash'].duplicated().value_counts()\n",
    "print(duplicate_values1)"
   ]
  },
  {
   "cell_type": "markdown",
   "metadata": {},
   "source": [
    "### Handling missing values and performing KNN Imputation on numerical features and mode imputation for categorical columns"
   ]
  },
  {
   "cell_type": "code",
   "execution_count": 138,
   "metadata": {},
   "outputs": [
    {
     "data": {
      "text/html": [
       "<div>\n",
       "<style scoped>\n",
       "    .dataframe tbody tr th:only-of-type {\n",
       "        vertical-align: middle;\n",
       "    }\n",
       "\n",
       "    .dataframe tbody tr th {\n",
       "        vertical-align: top;\n",
       "    }\n",
       "\n",
       "    .dataframe thead th {\n",
       "        text-align: right;\n",
       "    }\n",
       "</style>\n",
       "<table border=\"1\" class=\"dataframe\">\n",
       "  <thead>\n",
       "    <tr style=\"text-align: right;\">\n",
       "      <th></th>\n",
       "      <th>orgyear</th>\n",
       "      <th>ctc</th>\n",
       "      <th>ctc_updated_year</th>\n",
       "    </tr>\n",
       "  </thead>\n",
       "  <tbody>\n",
       "    <tr>\n",
       "      <th>0</th>\n",
       "      <td>2016.0</td>\n",
       "      <td>1100000</td>\n",
       "      <td>2020.0</td>\n",
       "    </tr>\n",
       "    <tr>\n",
       "      <th>1</th>\n",
       "      <td>2018.0</td>\n",
       "      <td>449999</td>\n",
       "      <td>2019.0</td>\n",
       "    </tr>\n",
       "    <tr>\n",
       "      <th>2</th>\n",
       "      <td>2015.0</td>\n",
       "      <td>2000000</td>\n",
       "      <td>2020.0</td>\n",
       "    </tr>\n",
       "    <tr>\n",
       "      <th>3</th>\n",
       "      <td>2017.0</td>\n",
       "      <td>700000</td>\n",
       "      <td>2019.0</td>\n",
       "    </tr>\n",
       "    <tr>\n",
       "      <th>4</th>\n",
       "      <td>2017.0</td>\n",
       "      <td>1400000</td>\n",
       "      <td>2019.0</td>\n",
       "    </tr>\n",
       "    <tr>\n",
       "      <th>...</th>\n",
       "      <td>...</td>\n",
       "      <td>...</td>\n",
       "      <td>...</td>\n",
       "    </tr>\n",
       "    <tr>\n",
       "      <th>205838</th>\n",
       "      <td>2008.0</td>\n",
       "      <td>220000</td>\n",
       "      <td>2019.0</td>\n",
       "    </tr>\n",
       "    <tr>\n",
       "      <th>205839</th>\n",
       "      <td>2017.0</td>\n",
       "      <td>500000</td>\n",
       "      <td>2020.0</td>\n",
       "    </tr>\n",
       "    <tr>\n",
       "      <th>205840</th>\n",
       "      <td>2021.0</td>\n",
       "      <td>700000</td>\n",
       "      <td>2021.0</td>\n",
       "    </tr>\n",
       "    <tr>\n",
       "      <th>205841</th>\n",
       "      <td>2019.0</td>\n",
       "      <td>5100000</td>\n",
       "      <td>2019.0</td>\n",
       "    </tr>\n",
       "    <tr>\n",
       "      <th>205842</th>\n",
       "      <td>2014.0</td>\n",
       "      <td>1240000</td>\n",
       "      <td>2016.0</td>\n",
       "    </tr>\n",
       "  </tbody>\n",
       "</table>\n",
       "<p>160311 rows × 3 columns</p>\n",
       "</div>"
      ],
      "text/plain": [
       "        orgyear      ctc  ctc_updated_year\n",
       "0        2016.0  1100000            2020.0\n",
       "1        2018.0   449999            2019.0\n",
       "2        2015.0  2000000            2020.0\n",
       "3        2017.0   700000            2019.0\n",
       "4        2017.0  1400000            2019.0\n",
       "...         ...      ...               ...\n",
       "205838   2008.0   220000            2019.0\n",
       "205839   2017.0   500000            2020.0\n",
       "205840   2021.0   700000            2021.0\n",
       "205841   2019.0  5100000            2019.0\n",
       "205842   2014.0  1240000            2016.0\n",
       "\n",
       "[160311 rows x 3 columns]"
      ]
     },
     "execution_count": 138,
     "metadata": {},
     "output_type": "execute_result"
    }
   ],
   "source": [
    "df_numerical = df.select_dtypes(np.number) #Extracting columns with numerical data type\n",
    "df_numerical"
   ]
  },
  {
   "cell_type": "code",
   "execution_count": 139,
   "metadata": {},
   "outputs": [],
   "source": [
    "#Performing KNN Imputation\n",
    "\n",
    "from sklearn.impute import KNNImputer\n",
    "\n",
    "imputer = KNNImputer(n_neighbors=5, metric='nan_euclidean', weights='uniform')\n",
    "imputer.fit(df_numerical)\n",
    "df_numerical_new = imputer.transform(df_numerical)"
   ]
  },
  {
   "cell_type": "code",
   "execution_count": 140,
   "metadata": {},
   "outputs": [
    {
     "data": {
      "text/html": [
       "<div>\n",
       "<style scoped>\n",
       "    .dataframe tbody tr th:only-of-type {\n",
       "        vertical-align: middle;\n",
       "    }\n",
       "\n",
       "    .dataframe tbody tr th {\n",
       "        vertical-align: top;\n",
       "    }\n",
       "\n",
       "    .dataframe thead th {\n",
       "        text-align: right;\n",
       "    }\n",
       "</style>\n",
       "<table border=\"1\" class=\"dataframe\">\n",
       "  <thead>\n",
       "    <tr style=\"text-align: right;\">\n",
       "      <th></th>\n",
       "      <th>0</th>\n",
       "      <th>1</th>\n",
       "      <th>2</th>\n",
       "    </tr>\n",
       "  </thead>\n",
       "  <tbody>\n",
       "    <tr>\n",
       "      <th>0</th>\n",
       "      <td>2016.0</td>\n",
       "      <td>1100000.0</td>\n",
       "      <td>2020.0</td>\n",
       "    </tr>\n",
       "    <tr>\n",
       "      <th>1</th>\n",
       "      <td>2018.0</td>\n",
       "      <td>449999.0</td>\n",
       "      <td>2019.0</td>\n",
       "    </tr>\n",
       "    <tr>\n",
       "      <th>2</th>\n",
       "      <td>2015.0</td>\n",
       "      <td>2000000.0</td>\n",
       "      <td>2020.0</td>\n",
       "    </tr>\n",
       "    <tr>\n",
       "      <th>3</th>\n",
       "      <td>2017.0</td>\n",
       "      <td>700000.0</td>\n",
       "      <td>2019.0</td>\n",
       "    </tr>\n",
       "    <tr>\n",
       "      <th>4</th>\n",
       "      <td>2017.0</td>\n",
       "      <td>1400000.0</td>\n",
       "      <td>2019.0</td>\n",
       "    </tr>\n",
       "    <tr>\n",
       "      <th>...</th>\n",
       "      <td>...</td>\n",
       "      <td>...</td>\n",
       "      <td>...</td>\n",
       "    </tr>\n",
       "    <tr>\n",
       "      <th>160306</th>\n",
       "      <td>2008.0</td>\n",
       "      <td>220000.0</td>\n",
       "      <td>2019.0</td>\n",
       "    </tr>\n",
       "    <tr>\n",
       "      <th>160307</th>\n",
       "      <td>2017.0</td>\n",
       "      <td>500000.0</td>\n",
       "      <td>2020.0</td>\n",
       "    </tr>\n",
       "    <tr>\n",
       "      <th>160308</th>\n",
       "      <td>2021.0</td>\n",
       "      <td>700000.0</td>\n",
       "      <td>2021.0</td>\n",
       "    </tr>\n",
       "    <tr>\n",
       "      <th>160309</th>\n",
       "      <td>2019.0</td>\n",
       "      <td>5100000.0</td>\n",
       "      <td>2019.0</td>\n",
       "    </tr>\n",
       "    <tr>\n",
       "      <th>160310</th>\n",
       "      <td>2014.0</td>\n",
       "      <td>1240000.0</td>\n",
       "      <td>2016.0</td>\n",
       "    </tr>\n",
       "  </tbody>\n",
       "</table>\n",
       "<p>160311 rows × 3 columns</p>\n",
       "</div>"
      ],
      "text/plain": [
       "             0          1       2\n",
       "0       2016.0  1100000.0  2020.0\n",
       "1       2018.0   449999.0  2019.0\n",
       "2       2015.0  2000000.0  2020.0\n",
       "3       2017.0   700000.0  2019.0\n",
       "4       2017.0  1400000.0  2019.0\n",
       "...        ...        ...     ...\n",
       "160306  2008.0   220000.0  2019.0\n",
       "160307  2017.0   500000.0  2020.0\n",
       "160308  2021.0   700000.0  2021.0\n",
       "160309  2019.0  5100000.0  2019.0\n",
       "160310  2014.0  1240000.0  2016.0\n",
       "\n",
       "[160311 rows x 3 columns]"
      ]
     },
     "execution_count": 140,
     "metadata": {},
     "output_type": "execute_result"
    }
   ],
   "source": [
    "df_numerical_new=pd.DataFrame(df_numerical_new) #Converting to dataframe\n",
    "df_numerical_new"
   ]
  },
  {
   "cell_type": "code",
   "execution_count": 141,
   "metadata": {},
   "outputs": [],
   "source": [
    "columns=df_numerical.columns"
   ]
  },
  {
   "cell_type": "code",
   "execution_count": 142,
   "metadata": {},
   "outputs": [],
   "source": [
    "df_numerical_new.columns=columns"
   ]
  },
  {
   "cell_type": "code",
   "execution_count": 143,
   "metadata": {},
   "outputs": [
    {
     "data": {
      "text/plain": [
       "orgyear             0\n",
       "ctc                 0\n",
       "ctc_updated_year    0\n",
       "dtype: int64"
      ]
     },
     "execution_count": 143,
     "metadata": {},
     "output_type": "execute_result"
    }
   ],
   "source": [
    "df_numerical_new.isna().sum()"
   ]
  },
  {
   "cell_type": "code",
   "execution_count": 144,
   "metadata": {},
   "outputs": [
    {
     "data": {
      "text/html": [
       "<div>\n",
       "<style scoped>\n",
       "    .dataframe tbody tr th:only-of-type {\n",
       "        vertical-align: middle;\n",
       "    }\n",
       "\n",
       "    .dataframe tbody tr th {\n",
       "        vertical-align: top;\n",
       "    }\n",
       "\n",
       "    .dataframe thead th {\n",
       "        text-align: right;\n",
       "    }\n",
       "</style>\n",
       "<table border=\"1\" class=\"dataframe\">\n",
       "  <thead>\n",
       "    <tr style=\"text-align: right;\">\n",
       "      <th></th>\n",
       "      <th>company_hash</th>\n",
       "      <th>email_hash</th>\n",
       "      <th>job_position</th>\n",
       "    </tr>\n",
       "  </thead>\n",
       "  <tbody>\n",
       "    <tr>\n",
       "      <th>0</th>\n",
       "      <td>atrgxnnt xzaxv</td>\n",
       "      <td>6de0a4417d18ab14334c3f43397fc13b30c35149d70c05...</td>\n",
       "      <td>Other</td>\n",
       "    </tr>\n",
       "    <tr>\n",
       "      <th>1</th>\n",
       "      <td>qtrxvzwt xzegwgbb rxbxnta</td>\n",
       "      <td>b0aaf1ac138b53cb6e039ba2c3d6604a250d02d5145c10...</td>\n",
       "      <td>FullStack Engineer</td>\n",
       "    </tr>\n",
       "    <tr>\n",
       "      <th>2</th>\n",
       "      <td>ojzwnvwnxw vx</td>\n",
       "      <td>4860c670bcd48fb96c02a4b0ae3608ae6fdd98176112e9...</td>\n",
       "      <td>Backend Engineer</td>\n",
       "    </tr>\n",
       "    <tr>\n",
       "      <th>3</th>\n",
       "      <td>ngpgutaxv</td>\n",
       "      <td>effdede7a2e7c2af664c8a31d9346385016128d66bbc58...</td>\n",
       "      <td>Backend Engineer</td>\n",
       "    </tr>\n",
       "    <tr>\n",
       "      <th>4</th>\n",
       "      <td>qxen sqghu</td>\n",
       "      <td>6ff54e709262f55cb999a1c1db8436cb2055d8f79ab520...</td>\n",
       "      <td>FullStack Engineer</td>\n",
       "    </tr>\n",
       "    <tr>\n",
       "      <th>...</th>\n",
       "      <td>...</td>\n",
       "      <td>...</td>\n",
       "      <td>...</td>\n",
       "    </tr>\n",
       "    <tr>\n",
       "      <th>205838</th>\n",
       "      <td>vuurt xzw</td>\n",
       "      <td>70027b728c8ee901fe979533ed94ffda97be08fc23f33b...</td>\n",
       "      <td>NaN</td>\n",
       "    </tr>\n",
       "    <tr>\n",
       "      <th>205839</th>\n",
       "      <td>husqvawgb</td>\n",
       "      <td>7f7292ffad724ebbe9ca860f515245368d714c84705b42...</td>\n",
       "      <td>NaN</td>\n",
       "    </tr>\n",
       "    <tr>\n",
       "      <th>205840</th>\n",
       "      <td>vwwgrxnt</td>\n",
       "      <td>cb25cc7304e9a24facda7f5567c7922ffc48e3d5d6018c...</td>\n",
       "      <td>NaN</td>\n",
       "    </tr>\n",
       "    <tr>\n",
       "      <th>205841</th>\n",
       "      <td>zgn vuurxwvmrt</td>\n",
       "      <td>fb46a1a2752f5f652ce634f6178d0578ef6995ee59f6c8...</td>\n",
       "      <td>NaN</td>\n",
       "    </tr>\n",
       "    <tr>\n",
       "      <th>205842</th>\n",
       "      <td>bgqsvz onvzrtj</td>\n",
       "      <td>0bcfc1d05f2e8dc4147743a1313aa70a119b41b30d4a1f...</td>\n",
       "      <td>NaN</td>\n",
       "    </tr>\n",
       "  </tbody>\n",
       "</table>\n",
       "<p>160311 rows × 3 columns</p>\n",
       "</div>"
      ],
      "text/plain": [
       "                     company_hash  \\\n",
       "0                  atrgxnnt xzaxv   \n",
       "1       qtrxvzwt xzegwgbb rxbxnta   \n",
       "2                   ojzwnvwnxw vx   \n",
       "3                       ngpgutaxv   \n",
       "4                      qxen sqghu   \n",
       "...                           ...   \n",
       "205838                  vuurt xzw   \n",
       "205839                  husqvawgb   \n",
       "205840                   vwwgrxnt   \n",
       "205841             zgn vuurxwvmrt   \n",
       "205842             bgqsvz onvzrtj   \n",
       "\n",
       "                                               email_hash        job_position  \n",
       "0       6de0a4417d18ab14334c3f43397fc13b30c35149d70c05...               Other  \n",
       "1       b0aaf1ac138b53cb6e039ba2c3d6604a250d02d5145c10...  FullStack Engineer  \n",
       "2       4860c670bcd48fb96c02a4b0ae3608ae6fdd98176112e9...    Backend Engineer  \n",
       "3       effdede7a2e7c2af664c8a31d9346385016128d66bbc58...    Backend Engineer  \n",
       "4       6ff54e709262f55cb999a1c1db8436cb2055d8f79ab520...  FullStack Engineer  \n",
       "...                                                   ...                 ...  \n",
       "205838  70027b728c8ee901fe979533ed94ffda97be08fc23f33b...                 NaN  \n",
       "205839  7f7292ffad724ebbe9ca860f515245368d714c84705b42...                 NaN  \n",
       "205840  cb25cc7304e9a24facda7f5567c7922ffc48e3d5d6018c...                 NaN  \n",
       "205841  fb46a1a2752f5f652ce634f6178d0578ef6995ee59f6c8...                 NaN  \n",
       "205842  0bcfc1d05f2e8dc4147743a1313aa70a119b41b30d4a1f...                 NaN  \n",
       "\n",
       "[160311 rows x 3 columns]"
      ]
     },
     "execution_count": 144,
     "metadata": {},
     "output_type": "execute_result"
    }
   ],
   "source": [
    "df_cat = df.select_dtypes(object) #Extracting columns with non-numerical data type\n",
    "df_cat"
   ]
  },
  {
   "cell_type": "code",
   "execution_count": 145,
   "metadata": {},
   "outputs": [],
   "source": [
    "#Using mode imputation\n",
    "\n",
    "df_cat = df_cat.fillna(df.mode().iloc[0])"
   ]
  },
  {
   "cell_type": "code",
   "execution_count": 146,
   "metadata": {},
   "outputs": [
    {
     "data": {
      "text/plain": [
       "company_hash    0\n",
       "email_hash      0\n",
       "job_position    0\n",
       "dtype: int64"
      ]
     },
     "execution_count": 146,
     "metadata": {},
     "output_type": "execute_result"
    }
   ],
   "source": [
    "df_cat.isna().sum()"
   ]
  },
  {
   "cell_type": "code",
   "execution_count": 147,
   "metadata": {},
   "outputs": [],
   "source": [
    "df_numerical_new = df_numerical_new.reset_index(drop=True)\n",
    "df_cat = df_cat.reset_index(drop=True)"
   ]
  },
  {
   "cell_type": "code",
   "execution_count": 148,
   "metadata": {},
   "outputs": [],
   "source": [
    "#Merging both the data frames, numerical and non-numerical\n",
    "\n",
    "data = pd.concat([df_numerical_new, df_cat], axis=1)"
   ]
  },
  {
   "cell_type": "code",
   "execution_count": 149,
   "metadata": {},
   "outputs": [
    {
     "data": {
      "text/plain": [
       "orgyear             0\n",
       "ctc                 0\n",
       "ctc_updated_year    0\n",
       "company_hash        0\n",
       "email_hash          0\n",
       "job_position        0\n",
       "dtype: int64"
      ]
     },
     "execution_count": 149,
     "metadata": {},
     "output_type": "execute_result"
    }
   ],
   "source": [
    "data.isna().sum() #Now there are no missing values"
   ]
  },
  {
   "cell_type": "code",
   "execution_count": 150,
   "metadata": {},
   "outputs": [
    {
     "data": {
      "text/html": [
       "<div>\n",
       "<style scoped>\n",
       "    .dataframe tbody tr th:only-of-type {\n",
       "        vertical-align: middle;\n",
       "    }\n",
       "\n",
       "    .dataframe tbody tr th {\n",
       "        vertical-align: top;\n",
       "    }\n",
       "\n",
       "    .dataframe thead th {\n",
       "        text-align: right;\n",
       "    }\n",
       "</style>\n",
       "<table border=\"1\" class=\"dataframe\">\n",
       "  <thead>\n",
       "    <tr style=\"text-align: right;\">\n",
       "      <th></th>\n",
       "      <th>orgyear</th>\n",
       "      <th>ctc</th>\n",
       "      <th>ctc_updated_year</th>\n",
       "      <th>company_hash</th>\n",
       "      <th>email_hash</th>\n",
       "      <th>job_position</th>\n",
       "    </tr>\n",
       "  </thead>\n",
       "  <tbody>\n",
       "    <tr>\n",
       "      <th>0</th>\n",
       "      <td>2016.0</td>\n",
       "      <td>1100000.0</td>\n",
       "      <td>2020.0</td>\n",
       "      <td>atrgxnnt xzaxv</td>\n",
       "      <td>6de0a4417d18ab14334c3f43397fc13b30c35149d70c05...</td>\n",
       "      <td>Other</td>\n",
       "    </tr>\n",
       "    <tr>\n",
       "      <th>1</th>\n",
       "      <td>2018.0</td>\n",
       "      <td>449999.0</td>\n",
       "      <td>2019.0</td>\n",
       "      <td>qtrxvzwt xzegwgbb rxbxnta</td>\n",
       "      <td>b0aaf1ac138b53cb6e039ba2c3d6604a250d02d5145c10...</td>\n",
       "      <td>FullStack Engineer</td>\n",
       "    </tr>\n",
       "    <tr>\n",
       "      <th>2</th>\n",
       "      <td>2015.0</td>\n",
       "      <td>2000000.0</td>\n",
       "      <td>2020.0</td>\n",
       "      <td>ojzwnvwnxw vx</td>\n",
       "      <td>4860c670bcd48fb96c02a4b0ae3608ae6fdd98176112e9...</td>\n",
       "      <td>Backend Engineer</td>\n",
       "    </tr>\n",
       "    <tr>\n",
       "      <th>3</th>\n",
       "      <td>2017.0</td>\n",
       "      <td>700000.0</td>\n",
       "      <td>2019.0</td>\n",
       "      <td>ngpgutaxv</td>\n",
       "      <td>effdede7a2e7c2af664c8a31d9346385016128d66bbc58...</td>\n",
       "      <td>Backend Engineer</td>\n",
       "    </tr>\n",
       "    <tr>\n",
       "      <th>4</th>\n",
       "      <td>2017.0</td>\n",
       "      <td>1400000.0</td>\n",
       "      <td>2019.0</td>\n",
       "      <td>qxen sqghu</td>\n",
       "      <td>6ff54e709262f55cb999a1c1db8436cb2055d8f79ab520...</td>\n",
       "      <td>FullStack Engineer</td>\n",
       "    </tr>\n",
       "    <tr>\n",
       "      <th>...</th>\n",
       "      <td>...</td>\n",
       "      <td>...</td>\n",
       "      <td>...</td>\n",
       "      <td>...</td>\n",
       "      <td>...</td>\n",
       "      <td>...</td>\n",
       "    </tr>\n",
       "    <tr>\n",
       "      <th>160306</th>\n",
       "      <td>2008.0</td>\n",
       "      <td>220000.0</td>\n",
       "      <td>2019.0</td>\n",
       "      <td>vuurt xzw</td>\n",
       "      <td>70027b728c8ee901fe979533ed94ffda97be08fc23f33b...</td>\n",
       "      <td>Backend Engineer</td>\n",
       "    </tr>\n",
       "    <tr>\n",
       "      <th>160307</th>\n",
       "      <td>2017.0</td>\n",
       "      <td>500000.0</td>\n",
       "      <td>2020.0</td>\n",
       "      <td>husqvawgb</td>\n",
       "      <td>7f7292ffad724ebbe9ca860f515245368d714c84705b42...</td>\n",
       "      <td>Backend Engineer</td>\n",
       "    </tr>\n",
       "    <tr>\n",
       "      <th>160308</th>\n",
       "      <td>2021.0</td>\n",
       "      <td>700000.0</td>\n",
       "      <td>2021.0</td>\n",
       "      <td>vwwgrxnt</td>\n",
       "      <td>cb25cc7304e9a24facda7f5567c7922ffc48e3d5d6018c...</td>\n",
       "      <td>Backend Engineer</td>\n",
       "    </tr>\n",
       "    <tr>\n",
       "      <th>160309</th>\n",
       "      <td>2019.0</td>\n",
       "      <td>5100000.0</td>\n",
       "      <td>2019.0</td>\n",
       "      <td>zgn vuurxwvmrt</td>\n",
       "      <td>fb46a1a2752f5f652ce634f6178d0578ef6995ee59f6c8...</td>\n",
       "      <td>Backend Engineer</td>\n",
       "    </tr>\n",
       "    <tr>\n",
       "      <th>160310</th>\n",
       "      <td>2014.0</td>\n",
       "      <td>1240000.0</td>\n",
       "      <td>2016.0</td>\n",
       "      <td>bgqsvz onvzrtj</td>\n",
       "      <td>0bcfc1d05f2e8dc4147743a1313aa70a119b41b30d4a1f...</td>\n",
       "      <td>Backend Engineer</td>\n",
       "    </tr>\n",
       "  </tbody>\n",
       "</table>\n",
       "<p>160311 rows × 6 columns</p>\n",
       "</div>"
      ],
      "text/plain": [
       "        orgyear        ctc  ctc_updated_year               company_hash  \\\n",
       "0        2016.0  1100000.0            2020.0             atrgxnnt xzaxv   \n",
       "1        2018.0   449999.0            2019.0  qtrxvzwt xzegwgbb rxbxnta   \n",
       "2        2015.0  2000000.0            2020.0              ojzwnvwnxw vx   \n",
       "3        2017.0   700000.0            2019.0                  ngpgutaxv   \n",
       "4        2017.0  1400000.0            2019.0                 qxen sqghu   \n",
       "...         ...        ...               ...                        ...   \n",
       "160306   2008.0   220000.0            2019.0                  vuurt xzw   \n",
       "160307   2017.0   500000.0            2020.0                  husqvawgb   \n",
       "160308   2021.0   700000.0            2021.0                   vwwgrxnt   \n",
       "160309   2019.0  5100000.0            2019.0             zgn vuurxwvmrt   \n",
       "160310   2014.0  1240000.0            2016.0             bgqsvz onvzrtj   \n",
       "\n",
       "                                               email_hash        job_position  \n",
       "0       6de0a4417d18ab14334c3f43397fc13b30c35149d70c05...               Other  \n",
       "1       b0aaf1ac138b53cb6e039ba2c3d6604a250d02d5145c10...  FullStack Engineer  \n",
       "2       4860c670bcd48fb96c02a4b0ae3608ae6fdd98176112e9...    Backend Engineer  \n",
       "3       effdede7a2e7c2af664c8a31d9346385016128d66bbc58...    Backend Engineer  \n",
       "4       6ff54e709262f55cb999a1c1db8436cb2055d8f79ab520...  FullStack Engineer  \n",
       "...                                                   ...                 ...  \n",
       "160306  70027b728c8ee901fe979533ed94ffda97be08fc23f33b...    Backend Engineer  \n",
       "160307  7f7292ffad724ebbe9ca860f515245368d714c84705b42...    Backend Engineer  \n",
       "160308  cb25cc7304e9a24facda7f5567c7922ffc48e3d5d6018c...    Backend Engineer  \n",
       "160309  fb46a1a2752f5f652ce634f6178d0578ef6995ee59f6c8...    Backend Engineer  \n",
       "160310  0bcfc1d05f2e8dc4147743a1313aa70a119b41b30d4a1f...    Backend Engineer  \n",
       "\n",
       "[160311 rows x 6 columns]"
      ]
     },
     "execution_count": 150,
     "metadata": {},
     "output_type": "execute_result"
    }
   ],
   "source": [
    "data"
   ]
  },
  {
   "cell_type": "markdown",
   "metadata": {},
   "source": [
    "### Univariate Analysis/Bivariate Analysis"
   ]
  },
  {
   "cell_type": "code",
   "execution_count": 151,
   "metadata": {
    "scrolled": true
   },
   "outputs": [
    {
     "data": {
      "image/png": "[encoded data removed]",
      "text/plain": [
       "<Figure size 1008x720 with 2 Axes>"
      ]
     },
     "metadata": {
      "needs_background": "light"
     },
     "output_type": "display_data"
    }
   ],
   "source": [
    "plt.figure(figsize=(14, 10))\n",
    "sns.heatmap(data.corr(method='spearman'), annot=True, cmap='viridis')\n",
    "plt.show()"
   ]
  },
  {
   "cell_type": "markdown",
   "metadata": {},
   "source": [
    "From the above heatmap:\n",
    "<ul>\n",
    "<li>orgyear and ctc are negatively correlated</li>\n",
    "<li>orgyear and ctc_updated_year are positively correlated</li>\n",
    "<li>ctc and ctc_updated_year are highly negatively correlated</li>\n",
    "</ul>"
   ]
  },
  {
   "cell_type": "code",
   "execution_count": 152,
   "metadata": {},
   "outputs": [
    {
     "data": {
      "image/png": "[encoded data removed]",
      "text/plain": [
       "<Figure size 1080x720 with 3 Axes>"
      ]
     },
     "metadata": {
      "needs_background": "light"
     },
     "output_type": "display_data"
    }
   ],
   "source": [
    "import matplotlib.pyplot as plt\n",
    "\n",
    "plt.figure(figsize=(15, 10))\n",
    "\n",
    "# Plot 1\n",
    "plt.subplot(231)\n",
    "top_10_orgyears = data['orgyear'].value_counts().nlargest(10)\n",
    "top_10_orgyears.plot.bar(title='Top 10 Employment Start Dates')\n",
    "\n",
    "# Plot 2\n",
    "plt.subplot(232)\n",
    "data['ctc_updated_year'].value_counts(normalize=True).plot.bar(title='Year in which CTC got updated')\n",
    "\n",
    "# Plot 3\n",
    "plt.subplot(233)\n",
    "top_10_ctc = data['ctc'].value_counts().nlargest(10)\n",
    "top_10_ctc.plot.bar(title='Top 10 CTC')\n",
    "\n",
    "plt.tight_layout() \n",
    "plt.show()"
   ]
  },
  {
   "cell_type": "markdown",
   "metadata": {},
   "source": [
    "#### Checking the top 10 Job positions in the data"
   ]
  },
  {
   "cell_type": "code",
   "execution_count": 153,
   "metadata": {},
   "outputs": [
    {
     "data": {
      "text/plain": [
       "<matplotlib.axes._subplots.AxesSubplot at 0x29ab630ea00>"
      ]
     },
     "execution_count": 153,
     "metadata": {},
     "output_type": "execute_result"
    },
    {
     "data": {
      "image/png": "[encoded data removed]",
      "text/plain": [
       "<Figure size 576x360 with 1 Axes>"
      ]
     },
     "metadata": {
      "needs_background": "light"
     },
     "output_type": "display_data"
    }
   ],
   "source": [
    "plt.figure(figsize=(8, 5))\n",
    "top_10_jobPosition = data['job_position'].value_counts().nlargest(10)\n",
    "top_10_jobPosition.plot.bar(title='Job positions')"
   ]
  },
  {
   "cell_type": "markdown",
   "metadata": {},
   "source": [
    "From the graphs:\n",
    "<ul>\n",
    "<li>2015 to 2018 has the most number of Employee start dates</li>\n",
    "<li>2019 was the year where the salary increment was the highest</li>\n",
    "<li>Backend Engineer is the job position which is the most frequent in the data</li>\n",
    "</ul>"
   ]
  },
  {
   "cell_type": "markdown",
   "metadata": {},
   "source": [
    "### Outlier detection"
   ]
  },
  {
   "cell_type": "code",
   "execution_count": 154,
   "metadata": {},
   "outputs": [
    {
     "data": {
      "text/plain": [
       "<matplotlib.axes._subplots.AxesSubplot at 0x29ab6616be0>"
      ]
     },
     "execution_count": 154,
     "metadata": {},
     "output_type": "execute_result"
    },
    {
     "data": {
      "image/png": "[encoded data removed]",
      "text/plain": [
       "<Figure size 1008x360 with 2 Axes>"
      ]
     },
     "metadata": {
      "needs_background": "light"
     },
     "output_type": "display_data"
    }
   ],
   "source": [
    "plt.subplots(figsize=(14,5))\n",
    "plt.subplot(121)\n",
    "sns.distplot(data['ctc'])\n",
    "plt.title(\"ctc\")\n",
    "plt.subplot(122)\n",
    "data['ctc'].plot.box(title='Boxplot of ctc')"
   ]
  },
  {
   "cell_type": "code",
   "execution_count": 155,
   "metadata": {},
   "outputs": [
    {
     "data": {
      "image/png": "[encoded data removed]",
      "text/plain": [
       "<Figure size 720x432 with 1 Axes>"
      ]
     },
     "metadata": {
      "needs_background": "light"
     },
     "output_type": "display_data"
    }
   ],
   "source": [
    "import matplotlib.pyplot as plt\n",
    "\n",
    "\n",
    "ctc_bins = [0, 300000, 600000, 1000000, 1500000, 2000000, 5000000, 10000000, 30000000]\n",
    "\n",
    "plt.figure(figsize=(10, 6))\n",
    "sns.histplot(data['ctc'], bins=ctc_bins, edgecolor='black')\n",
    "plt.xscale('log')\n",
    "plt.title('Distribution of CTC')\n",
    "plt.xlabel('CTC')\n",
    "plt.ylabel('Frequency')\n",
    "plt.show()\n"
   ]
  },
  {
   "cell_type": "code",
   "execution_count": 156,
   "metadata": {},
   "outputs": [
    {
     "data": {
      "image/png": "[encoded data removed]",
      "text/plain": [
       "<Figure size 720x432 with 1 Axes>"
      ]
     },
     "metadata": {
      "needs_background": "light"
     },
     "output_type": "display_data"
    }
   ],
   "source": [
    "import numpy as np\n",
    "import matplotlib.pyplot as plt\n",
    "\n",
    "ctc_bins = [0, 100000, 200000, 300000, 500000, 1000000, 1500000, 2000000, 5000000, 10000000, 30000000]\n",
    "\n",
    "plt.figure(figsize=(10, 6))\n",
    "hist, edges, _ = plt.hist(data['ctc'], bins=ctc_bins, edgecolor='black')\n",
    "\n",
    "tick_positions = edges[:-1] + np.diff(edges) / 2  # Set ticks at bin midpoints\n",
    "tick_labels = ['2k', '10k', '20k', '30k', '50k', '100k', '150k', '200k', '500k', '1M', '3M']\n",
    "plt.xticks(tick_positions, tick_labels)\n",
    "\n",
    "plt.title('Distribution of CTC')\n",
    "plt.xlabel('CTC')\n",
    "plt.ylabel('Frequency')\n",
    "plt.show()"
   ]
  },
  {
   "cell_type": "code",
   "execution_count": 157,
   "metadata": {},
   "outputs": [],
   "source": [
    "def detect_outliers(data):\n",
    "    length_before = len(data)\n",
    "    Q1 = np.percentile(data,25)\n",
    "    Q3 = np.percentile(data,75)\n",
    "    IQR = Q3-Q1\n",
    "    upperbound = Q3+1.5*IQR\n",
    "    lowerbound = Q1-1.5*IQR\n",
    "    if lowerbound < 0:\n",
    "        lowerbound = 0\n",
    "    \n",
    "    length_after = len(data[(data>lowerbound)&(data<upperbound)])\n",
    "    return f\"{np.round((length_before-length_after)/length_before,4)} % Outliers data from input data found\""
   ]
  },
  {
   "cell_type": "code",
   "execution_count": 158,
   "metadata": {},
   "outputs": [
    {
     "name": "stdout",
     "output_type": "stream",
     "text": [
      "orgyear  :  0.0416 % Outliers data from input data found\n",
      "ctc  :  0.0675 % Outliers data from input data found\n",
      "ctc_updated_year  :  0.0485 % Outliers data from input data found\n"
     ]
    }
   ],
   "source": [
    "for col in df_numerical_new.columns:\n",
    "    print(col,\" : \",detect_outliers(df_numerical_new[col]))"
   ]
  },
  {
   "cell_type": "code",
   "execution_count": 159,
   "metadata": {},
   "outputs": [
    {
     "data": {
      "text/html": [
       "<div>\n",
       "<style scoped>\n",
       "    .dataframe tbody tr th:only-of-type {\n",
       "        vertical-align: middle;\n",
       "    }\n",
       "\n",
       "    .dataframe tbody tr th {\n",
       "        vertical-align: top;\n",
       "    }\n",
       "\n",
       "    .dataframe thead th {\n",
       "        text-align: right;\n",
       "    }\n",
       "</style>\n",
       "<table border=\"1\" class=\"dataframe\">\n",
       "  <thead>\n",
       "    <tr style=\"text-align: right;\">\n",
       "      <th></th>\n",
       "      <th>orgyear</th>\n",
       "      <th>ctc</th>\n",
       "      <th>ctc_updated_year</th>\n",
       "    </tr>\n",
       "  </thead>\n",
       "  <tbody>\n",
       "    <tr>\n",
       "      <th>count</th>\n",
       "      <td>160311.000000</td>\n",
       "      <td>1.603110e+05</td>\n",
       "      <td>160311.000000</td>\n",
       "    </tr>\n",
       "    <tr>\n",
       "      <th>mean</th>\n",
       "      <td>2014.626472</td>\n",
       "      <td>2.475029e+06</td>\n",
       "      <td>2019.474740</td>\n",
       "    </tr>\n",
       "    <tr>\n",
       "      <th>std</th>\n",
       "      <td>71.475942</td>\n",
       "      <td>1.287982e+07</td>\n",
       "      <td>1.356445</td>\n",
       "    </tr>\n",
       "    <tr>\n",
       "      <th>min</th>\n",
       "      <td>0.000000</td>\n",
       "      <td>2.000000e+00</td>\n",
       "      <td>2015.000000</td>\n",
       "    </tr>\n",
       "    <tr>\n",
       "      <th>25%</th>\n",
       "      <td>2013.000000</td>\n",
       "      <td>5.500000e+05</td>\n",
       "      <td>2019.000000</td>\n",
       "    </tr>\n",
       "    <tr>\n",
       "      <th>50%</th>\n",
       "      <td>2016.000000</td>\n",
       "      <td>9.700000e+05</td>\n",
       "      <td>2020.000000</td>\n",
       "    </tr>\n",
       "    <tr>\n",
       "      <th>75%</th>\n",
       "      <td>2018.000000</td>\n",
       "      <td>1.700000e+06</td>\n",
       "      <td>2021.000000</td>\n",
       "    </tr>\n",
       "    <tr>\n",
       "      <th>max</th>\n",
       "      <td>20165.000000</td>\n",
       "      <td>1.000150e+09</td>\n",
       "      <td>2021.000000</td>\n",
       "    </tr>\n",
       "  </tbody>\n",
       "</table>\n",
       "</div>"
      ],
      "text/plain": [
       "             orgyear           ctc  ctc_updated_year\n",
       "count  160311.000000  1.603110e+05     160311.000000\n",
       "mean     2014.626472  2.475029e+06       2019.474740\n",
       "std        71.475942  1.287982e+07          1.356445\n",
       "min         0.000000  2.000000e+00       2015.000000\n",
       "25%      2013.000000  5.500000e+05       2019.000000\n",
       "50%      2016.000000  9.700000e+05       2020.000000\n",
       "75%      2018.000000  1.700000e+06       2021.000000\n",
       "max     20165.000000  1.000150e+09       2021.000000"
      ]
     },
     "execution_count": 159,
     "metadata": {},
     "output_type": "execute_result"
    }
   ],
   "source": [
    "data.describe()"
   ]
  },
  {
   "cell_type": "code",
   "execution_count": 160,
   "metadata": {},
   "outputs": [
    {
     "data": {
      "text/plain": [
       "(156189, 6)"
      ]
     },
     "execution_count": 160,
     "metadata": {},
     "output_type": "execute_result"
    }
   ],
   "source": [
    "for col in df_numerical_new:\n",
    "    mean = data[col].mean()\n",
    "    std = data[col].std()\n",
    "\n",
    "    upper_limit = mean+3*std\n",
    "    lower_limit = mean-3*std\n",
    "\n",
    "    data = data[(df_numerical_new[col]<upper_limit) & (df_numerical_new[col]>lower_limit)]\n",
    "\n",
    "data.shape"
   ]
  },
  {
   "cell_type": "code",
   "execution_count": 161,
   "metadata": {},
   "outputs": [
    {
     "data": {
      "text/html": [
       "<div>\n",
       "<style scoped>\n",
       "    .dataframe tbody tr th:only-of-type {\n",
       "        vertical-align: middle;\n",
       "    }\n",
       "\n",
       "    .dataframe tbody tr th {\n",
       "        vertical-align: top;\n",
       "    }\n",
       "\n",
       "    .dataframe thead th {\n",
       "        text-align: right;\n",
       "    }\n",
       "</style>\n",
       "<table border=\"1\" class=\"dataframe\">\n",
       "  <thead>\n",
       "    <tr style=\"text-align: right;\">\n",
       "      <th></th>\n",
       "      <th>orgyear</th>\n",
       "      <th>ctc</th>\n",
       "      <th>ctc_updated_year</th>\n",
       "    </tr>\n",
       "  </thead>\n",
       "  <tbody>\n",
       "    <tr>\n",
       "      <th>count</th>\n",
       "      <td>160311.000000</td>\n",
       "      <td>1.603110e+05</td>\n",
       "      <td>160311.000000</td>\n",
       "    </tr>\n",
       "    <tr>\n",
       "      <th>mean</th>\n",
       "      <td>2014.626472</td>\n",
       "      <td>2.475029e+06</td>\n",
       "      <td>2019.474740</td>\n",
       "    </tr>\n",
       "    <tr>\n",
       "      <th>std</th>\n",
       "      <td>71.475942</td>\n",
       "      <td>1.287982e+07</td>\n",
       "      <td>1.356445</td>\n",
       "    </tr>\n",
       "    <tr>\n",
       "      <th>min</th>\n",
       "      <td>0.000000</td>\n",
       "      <td>2.000000e+00</td>\n",
       "      <td>2015.000000</td>\n",
       "    </tr>\n",
       "    <tr>\n",
       "      <th>25%</th>\n",
       "      <td>2013.000000</td>\n",
       "      <td>5.500000e+05</td>\n",
       "      <td>2019.000000</td>\n",
       "    </tr>\n",
       "    <tr>\n",
       "      <th>50%</th>\n",
       "      <td>2016.000000</td>\n",
       "      <td>9.700000e+05</td>\n",
       "      <td>2020.000000</td>\n",
       "    </tr>\n",
       "    <tr>\n",
       "      <th>75%</th>\n",
       "      <td>2018.000000</td>\n",
       "      <td>1.700000e+06</td>\n",
       "      <td>2021.000000</td>\n",
       "    </tr>\n",
       "    <tr>\n",
       "      <th>max</th>\n",
       "      <td>20165.000000</td>\n",
       "      <td>1.000150e+09</td>\n",
       "      <td>2021.000000</td>\n",
       "    </tr>\n",
       "  </tbody>\n",
       "</table>\n",
       "</div>"
      ],
      "text/plain": [
       "             orgyear           ctc  ctc_updated_year\n",
       "count  160311.000000  1.603110e+05     160311.000000\n",
       "mean     2014.626472  2.475029e+06       2019.474740\n",
       "std        71.475942  1.287982e+07          1.356445\n",
       "min         0.000000  2.000000e+00       2015.000000\n",
       "25%      2013.000000  5.500000e+05       2019.000000\n",
       "50%      2016.000000  9.700000e+05       2020.000000\n",
       "75%      2018.000000  1.700000e+06       2021.000000\n",
       "max     20165.000000  1.000150e+09       2021.000000"
      ]
     },
     "execution_count": 161,
     "metadata": {},
     "output_type": "execute_result"
    }
   ],
   "source": [
    "df_numerical_new.describe()"
   ]
  },
  {
   "cell_type": "code",
   "execution_count": 162,
   "metadata": {},
   "outputs": [
    {
     "data": {
      "text/html": [
       "<div>\n",
       "<style scoped>\n",
       "    .dataframe tbody tr th:only-of-type {\n",
       "        vertical-align: middle;\n",
       "    }\n",
       "\n",
       "    .dataframe tbody tr th {\n",
       "        vertical-align: top;\n",
       "    }\n",
       "\n",
       "    .dataframe thead th {\n",
       "        text-align: right;\n",
       "    }\n",
       "</style>\n",
       "<table border=\"1\" class=\"dataframe\">\n",
       "  <thead>\n",
       "    <tr style=\"text-align: right;\">\n",
       "      <th></th>\n",
       "      <th>orgyear</th>\n",
       "      <th>ctc</th>\n",
       "      <th>ctc_updated_year</th>\n",
       "      <th>company_hash</th>\n",
       "      <th>email_hash</th>\n",
       "      <th>job_position</th>\n",
       "    </tr>\n",
       "  </thead>\n",
       "  <tbody>\n",
       "    <tr>\n",
       "      <th>0</th>\n",
       "      <td>2016.0</td>\n",
       "      <td>1100000.0</td>\n",
       "      <td>2020.0</td>\n",
       "      <td>atrgxnnt xzaxv</td>\n",
       "      <td>6de0a4417d18ab14334c3f43397fc13b30c35149d70c05...</td>\n",
       "      <td>Other</td>\n",
       "    </tr>\n",
       "    <tr>\n",
       "      <th>1</th>\n",
       "      <td>2018.0</td>\n",
       "      <td>449999.0</td>\n",
       "      <td>2019.0</td>\n",
       "      <td>qtrxvzwt xzegwgbb rxbxnta</td>\n",
       "      <td>b0aaf1ac138b53cb6e039ba2c3d6604a250d02d5145c10...</td>\n",
       "      <td>FullStack Engineer</td>\n",
       "    </tr>\n",
       "    <tr>\n",
       "      <th>2</th>\n",
       "      <td>2015.0</td>\n",
       "      <td>2000000.0</td>\n",
       "      <td>2020.0</td>\n",
       "      <td>ojzwnvwnxw vx</td>\n",
       "      <td>4860c670bcd48fb96c02a4b0ae3608ae6fdd98176112e9...</td>\n",
       "      <td>Backend Engineer</td>\n",
       "    </tr>\n",
       "    <tr>\n",
       "      <th>3</th>\n",
       "      <td>2017.0</td>\n",
       "      <td>700000.0</td>\n",
       "      <td>2019.0</td>\n",
       "      <td>ngpgutaxv</td>\n",
       "      <td>effdede7a2e7c2af664c8a31d9346385016128d66bbc58...</td>\n",
       "      <td>Backend Engineer</td>\n",
       "    </tr>\n",
       "    <tr>\n",
       "      <th>4</th>\n",
       "      <td>2017.0</td>\n",
       "      <td>1400000.0</td>\n",
       "      <td>2019.0</td>\n",
       "      <td>qxen sqghu</td>\n",
       "      <td>6ff54e709262f55cb999a1c1db8436cb2055d8f79ab520...</td>\n",
       "      <td>FullStack Engineer</td>\n",
       "    </tr>\n",
       "  </tbody>\n",
       "</table>\n",
       "</div>"
      ],
      "text/plain": [
       "   orgyear        ctc  ctc_updated_year               company_hash  \\\n",
       "0   2016.0  1100000.0            2020.0             atrgxnnt xzaxv   \n",
       "1   2018.0   449999.0            2019.0  qtrxvzwt xzegwgbb rxbxnta   \n",
       "2   2015.0  2000000.0            2020.0              ojzwnvwnxw vx   \n",
       "3   2017.0   700000.0            2019.0                  ngpgutaxv   \n",
       "4   2017.0  1400000.0            2019.0                 qxen sqghu   \n",
       "\n",
       "                                          email_hash        job_position  \n",
       "0  6de0a4417d18ab14334c3f43397fc13b30c35149d70c05...               Other  \n",
       "1  b0aaf1ac138b53cb6e039ba2c3d6604a250d02d5145c10...  FullStack Engineer  \n",
       "2  4860c670bcd48fb96c02a4b0ae3608ae6fdd98176112e9...    Backend Engineer  \n",
       "3  effdede7a2e7c2af664c8a31d9346385016128d66bbc58...    Backend Engineer  \n",
       "4  6ff54e709262f55cb999a1c1db8436cb2055d8f79ab520...  FullStack Engineer  "
      ]
     },
     "execution_count": 162,
     "metadata": {},
     "output_type": "execute_result"
    }
   ],
   "source": [
    "data.head()"
   ]
  },
  {
   "cell_type": "code",
   "execution_count": 163,
   "metadata": {},
   "outputs": [
    {
     "data": {
      "text/plain": [
       "<matplotlib.axes._subplots.AxesSubplot at 0x29aba5a6eb0>"
      ]
     },
     "execution_count": 163,
     "metadata": {},
     "output_type": "execute_result"
    },
    {
     "data": {
      "image/png": "[encoded data removed]",
      "text/plain": [
       "<Figure size 1008x360 with 2 Axes>"
      ]
     },
     "metadata": {
      "needs_background": "light"
     },
     "output_type": "display_data"
    }
   ],
   "source": [
    "plt.subplots(figsize=(14,5))\n",
    "plt.subplot(121)\n",
    "sns.distplot(data['ctc'])\n",
    "plt.title(\"ctc\")\n",
    "plt.subplot(122)\n",
    "data['ctc'].plot.box(title='Boxplot of ctc')"
   ]
  },
  {
   "cell_type": "code",
   "execution_count": 164,
   "metadata": {},
   "outputs": [
    {
     "data": {
      "text/plain": [
       "(156189, 6)"
      ]
     },
     "execution_count": 164,
     "metadata": {},
     "output_type": "execute_result"
    }
   ],
   "source": [
    "data.shape"
   ]
  },
  {
   "cell_type": "code",
   "execution_count": 165,
   "metadata": {},
   "outputs": [
    {
     "data": {
      "text/plain": [
       "<matplotlib.axes._subplots.AxesSubplot at 0x29ab9ff2430>"
      ]
     },
     "execution_count": 165,
     "metadata": {},
     "output_type": "execute_result"
    },
    {
     "data": {
      "image/png": "[encoded data removed]",
      "text/plain": [
       "<Figure size 1008x360 with 2 Axes>"
      ]
     },
     "metadata": {
      "needs_background": "light"
     },
     "output_type": "display_data"
    }
   ],
   "source": [
    "plt.subplots(figsize=(14,5))\n",
    "plt.subplot(121)\n",
    "sns.distplot(data['ctc_updated_year'])\n",
    "plt.title(\"ctc_updated_year\")\n",
    "plt.subplot(122)\n",
    "data['ctc_updated_year'].plot.box(title='Boxplot of ctc_updated_year')"
   ]
  },
  {
   "cell_type": "markdown",
   "metadata": {},
   "source": [
    "### Feature Engineering"
   ]
  },
  {
   "cell_type": "code",
   "execution_count": 166,
   "metadata": {},
   "outputs": [
    {
     "data": {
      "text/plain": [
       "2023"
      ]
     },
     "execution_count": 166,
     "metadata": {},
     "output_type": "execute_result"
    }
   ],
   "source": [
    "#Creating Years_of_Experience column\n",
    "\n",
    "import datetime\n",
    "current_year = datetime.datetime.now().year \n",
    "current_year "
   ]
  },
  {
   "cell_type": "code",
   "execution_count": 167,
   "metadata": {},
   "outputs": [],
   "source": [
    "data['Years_of_Experience'] = current_year - data['orgyear']"
   ]
  },
  {
   "cell_type": "code",
   "execution_count": 168,
   "metadata": {},
   "outputs": [
    {
     "data": {
      "text/html": [
       "<div>\n",
       "<style scoped>\n",
       "    .dataframe tbody tr th:only-of-type {\n",
       "        vertical-align: middle;\n",
       "    }\n",
       "\n",
       "    .dataframe tbody tr th {\n",
       "        vertical-align: top;\n",
       "    }\n",
       "\n",
       "    .dataframe thead th {\n",
       "        text-align: right;\n",
       "    }\n",
       "</style>\n",
       "<table border=\"1\" class=\"dataframe\">\n",
       "  <thead>\n",
       "    <tr style=\"text-align: right;\">\n",
       "      <th></th>\n",
       "      <th>orgyear</th>\n",
       "      <th>ctc</th>\n",
       "      <th>ctc_updated_year</th>\n",
       "      <th>company_hash</th>\n",
       "      <th>email_hash</th>\n",
       "      <th>job_position</th>\n",
       "      <th>Years_of_Experience</th>\n",
       "    </tr>\n",
       "  </thead>\n",
       "  <tbody>\n",
       "    <tr>\n",
       "      <th>0</th>\n",
       "      <td>2016.0</td>\n",
       "      <td>1100000.0</td>\n",
       "      <td>2020.0</td>\n",
       "      <td>atrgxnnt xzaxv</td>\n",
       "      <td>6de0a4417d18ab14334c3f43397fc13b30c35149d70c05...</td>\n",
       "      <td>Other</td>\n",
       "      <td>7.0</td>\n",
       "    </tr>\n",
       "    <tr>\n",
       "      <th>1</th>\n",
       "      <td>2018.0</td>\n",
       "      <td>449999.0</td>\n",
       "      <td>2019.0</td>\n",
       "      <td>qtrxvzwt xzegwgbb rxbxnta</td>\n",
       "      <td>b0aaf1ac138b53cb6e039ba2c3d6604a250d02d5145c10...</td>\n",
       "      <td>FullStack Engineer</td>\n",
       "      <td>5.0</td>\n",
       "    </tr>\n",
       "    <tr>\n",
       "      <th>2</th>\n",
       "      <td>2015.0</td>\n",
       "      <td>2000000.0</td>\n",
       "      <td>2020.0</td>\n",
       "      <td>ojzwnvwnxw vx</td>\n",
       "      <td>4860c670bcd48fb96c02a4b0ae3608ae6fdd98176112e9...</td>\n",
       "      <td>Backend Engineer</td>\n",
       "      <td>8.0</td>\n",
       "    </tr>\n",
       "    <tr>\n",
       "      <th>3</th>\n",
       "      <td>2017.0</td>\n",
       "      <td>700000.0</td>\n",
       "      <td>2019.0</td>\n",
       "      <td>ngpgutaxv</td>\n",
       "      <td>effdede7a2e7c2af664c8a31d9346385016128d66bbc58...</td>\n",
       "      <td>Backend Engineer</td>\n",
       "      <td>6.0</td>\n",
       "    </tr>\n",
       "    <tr>\n",
       "      <th>4</th>\n",
       "      <td>2017.0</td>\n",
       "      <td>1400000.0</td>\n",
       "      <td>2019.0</td>\n",
       "      <td>qxen sqghu</td>\n",
       "      <td>6ff54e709262f55cb999a1c1db8436cb2055d8f79ab520...</td>\n",
       "      <td>FullStack Engineer</td>\n",
       "      <td>6.0</td>\n",
       "    </tr>\n",
       "  </tbody>\n",
       "</table>\n",
       "</div>"
      ],
      "text/plain": [
       "   orgyear        ctc  ctc_updated_year               company_hash  \\\n",
       "0   2016.0  1100000.0            2020.0             atrgxnnt xzaxv   \n",
       "1   2018.0   449999.0            2019.0  qtrxvzwt xzegwgbb rxbxnta   \n",
       "2   2015.0  2000000.0            2020.0              ojzwnvwnxw vx   \n",
       "3   2017.0   700000.0            2019.0                  ngpgutaxv   \n",
       "4   2017.0  1400000.0            2019.0                 qxen sqghu   \n",
       "\n",
       "                                          email_hash        job_position  \\\n",
       "0  6de0a4417d18ab14334c3f43397fc13b30c35149d70c05...               Other   \n",
       "1  b0aaf1ac138b53cb6e039ba2c3d6604a250d02d5145c10...  FullStack Engineer   \n",
       "2  4860c670bcd48fb96c02a4b0ae3608ae6fdd98176112e9...    Backend Engineer   \n",
       "3  effdede7a2e7c2af664c8a31d9346385016128d66bbc58...    Backend Engineer   \n",
       "4  6ff54e709262f55cb999a1c1db8436cb2055d8f79ab520...  FullStack Engineer   \n",
       "\n",
       "   Years_of_Experience  \n",
       "0                  7.0  \n",
       "1                  5.0  \n",
       "2                  8.0  \n",
       "3                  6.0  \n",
       "4                  6.0  "
      ]
     },
     "execution_count": 168,
     "metadata": {},
     "output_type": "execute_result"
    }
   ],
   "source": [
    "data.head()"
   ]
  },
  {
   "cell_type": "code",
   "execution_count": 169,
   "metadata": {},
   "outputs": [
    {
     "data": {
      "text/plain": [
       " 5.0     17738\n",
       " 7.0     17331\n",
       " 6.0     16993\n",
       " 8.0     16090\n",
       " 4.0     16089\n",
       "         ...  \n",
       "-78.0        1\n",
       " 11.4        1\n",
       " 10.8        1\n",
       "-83.0        1\n",
       " 12.6        1\n",
       "Name: Years_of_Experience, Length: 95, dtype: int64"
      ]
     },
     "execution_count": 169,
     "metadata": {},
     "output_type": "execute_result"
    }
   ],
   "source": [
    "data['Years_of_Experience'].value_counts()"
   ]
  },
  {
   "cell_type": "markdown",
   "metadata": {},
   "source": [
    "#### We see few rows have values less than 0 which is ideally not possible. Hence we have dropped them."
   ]
  },
  {
   "cell_type": "code",
   "execution_count": 170,
   "metadata": {},
   "outputs": [],
   "source": [
    "data = data[data['Years_of_Experience'] >= 0]"
   ]
  },
  {
   "cell_type": "code",
   "execution_count": 171,
   "metadata": {},
   "outputs": [
    {
     "data": {
      "text/plain": [
       "(156128, 7)"
      ]
     },
     "execution_count": 171,
     "metadata": {},
     "output_type": "execute_result"
    }
   ],
   "source": [
    "data.shape"
   ]
  },
  {
   "cell_type": "markdown",
   "metadata": {},
   "source": [
    "### Creating a column CTC_Category which will bin employees based on their ctc - either low, average or high"
   ]
  },
  {
   "cell_type": "code",
   "execution_count": 172,
   "metadata": {},
   "outputs": [],
   "source": [
    "def categorize_ctc(ctc):\n",
    "    if ctc < 800000:\n",
    "        return 'Low'\n",
    "    elif 800000 <= ctc < 1500000:\n",
    "        return 'Average'\n",
    "    else:\n",
    "        return 'High'"
   ]
  },
  {
   "cell_type": "code",
   "execution_count": 173,
   "metadata": {},
   "outputs": [],
   "source": [
    "data['CTC_Category'] = data['ctc'].apply(categorize_ctc)"
   ]
  },
  {
   "cell_type": "code",
   "execution_count": 174,
   "metadata": {},
   "outputs": [
    {
     "data": {
      "text/html": [
       "<div>\n",
       "<style scoped>\n",
       "    .dataframe tbody tr th:only-of-type {\n",
       "        vertical-align: middle;\n",
       "    }\n",
       "\n",
       "    .dataframe tbody tr th {\n",
       "        vertical-align: top;\n",
       "    }\n",
       "\n",
       "    .dataframe thead th {\n",
       "        text-align: right;\n",
       "    }\n",
       "</style>\n",
       "<table border=\"1\" class=\"dataframe\">\n",
       "  <thead>\n",
       "    <tr style=\"text-align: right;\">\n",
       "      <th></th>\n",
       "      <th>orgyear</th>\n",
       "      <th>ctc</th>\n",
       "      <th>ctc_updated_year</th>\n",
       "      <th>company_hash</th>\n",
       "      <th>email_hash</th>\n",
       "      <th>job_position</th>\n",
       "      <th>Years_of_Experience</th>\n",
       "      <th>CTC_Category</th>\n",
       "    </tr>\n",
       "  </thead>\n",
       "  <tbody>\n",
       "    <tr>\n",
       "      <th>0</th>\n",
       "      <td>2016.0</td>\n",
       "      <td>1100000.0</td>\n",
       "      <td>2020.0</td>\n",
       "      <td>atrgxnnt xzaxv</td>\n",
       "      <td>6de0a4417d18ab14334c3f43397fc13b30c35149d70c05...</td>\n",
       "      <td>Other</td>\n",
       "      <td>7.0</td>\n",
       "      <td>Average</td>\n",
       "    </tr>\n",
       "    <tr>\n",
       "      <th>1</th>\n",
       "      <td>2018.0</td>\n",
       "      <td>449999.0</td>\n",
       "      <td>2019.0</td>\n",
       "      <td>qtrxvzwt xzegwgbb rxbxnta</td>\n",
       "      <td>b0aaf1ac138b53cb6e039ba2c3d6604a250d02d5145c10...</td>\n",
       "      <td>FullStack Engineer</td>\n",
       "      <td>5.0</td>\n",
       "      <td>Low</td>\n",
       "    </tr>\n",
       "    <tr>\n",
       "      <th>2</th>\n",
       "      <td>2015.0</td>\n",
       "      <td>2000000.0</td>\n",
       "      <td>2020.0</td>\n",
       "      <td>ojzwnvwnxw vx</td>\n",
       "      <td>4860c670bcd48fb96c02a4b0ae3608ae6fdd98176112e9...</td>\n",
       "      <td>Backend Engineer</td>\n",
       "      <td>8.0</td>\n",
       "      <td>High</td>\n",
       "    </tr>\n",
       "    <tr>\n",
       "      <th>3</th>\n",
       "      <td>2017.0</td>\n",
       "      <td>700000.0</td>\n",
       "      <td>2019.0</td>\n",
       "      <td>ngpgutaxv</td>\n",
       "      <td>effdede7a2e7c2af664c8a31d9346385016128d66bbc58...</td>\n",
       "      <td>Backend Engineer</td>\n",
       "      <td>6.0</td>\n",
       "      <td>Low</td>\n",
       "    </tr>\n",
       "    <tr>\n",
       "      <th>4</th>\n",
       "      <td>2017.0</td>\n",
       "      <td>1400000.0</td>\n",
       "      <td>2019.0</td>\n",
       "      <td>qxen sqghu</td>\n",
       "      <td>6ff54e709262f55cb999a1c1db8436cb2055d8f79ab520...</td>\n",
       "      <td>FullStack Engineer</td>\n",
       "      <td>6.0</td>\n",
       "      <td>Average</td>\n",
       "    </tr>\n",
       "  </tbody>\n",
       "</table>\n",
       "</div>"
      ],
      "text/plain": [
       "   orgyear        ctc  ctc_updated_year               company_hash  \\\n",
       "0   2016.0  1100000.0            2020.0             atrgxnnt xzaxv   \n",
       "1   2018.0   449999.0            2019.0  qtrxvzwt xzegwgbb rxbxnta   \n",
       "2   2015.0  2000000.0            2020.0              ojzwnvwnxw vx   \n",
       "3   2017.0   700000.0            2019.0                  ngpgutaxv   \n",
       "4   2017.0  1400000.0            2019.0                 qxen sqghu   \n",
       "\n",
       "                                          email_hash        job_position  \\\n",
       "0  6de0a4417d18ab14334c3f43397fc13b30c35149d70c05...               Other   \n",
       "1  b0aaf1ac138b53cb6e039ba2c3d6604a250d02d5145c10...  FullStack Engineer   \n",
       "2  4860c670bcd48fb96c02a4b0ae3608ae6fdd98176112e9...    Backend Engineer   \n",
       "3  effdede7a2e7c2af664c8a31d9346385016128d66bbc58...    Backend Engineer   \n",
       "4  6ff54e709262f55cb999a1c1db8436cb2055d8f79ab520...  FullStack Engineer   \n",
       "\n",
       "   Years_of_Experience CTC_Category  \n",
       "0                  7.0      Average  \n",
       "1                  5.0          Low  \n",
       "2                  8.0         High  \n",
       "3                  6.0          Low  \n",
       "4                  6.0      Average  "
      ]
     },
     "execution_count": 174,
     "metadata": {},
     "output_type": "execute_result"
    }
   ],
   "source": [
    "data.head()"
   ]
  },
  {
   "cell_type": "code",
   "execution_count": 175,
   "metadata": {},
   "outputs": [
    {
     "data": {
      "text/plain": [
       "<matplotlib.axes._subplots.AxesSubplot at 0x29ab55271f0>"
      ]
     },
     "execution_count": 175,
     "metadata": {},
     "output_type": "execute_result"
    },
    {
     "data": {
      "image/png": "[encoded data removed]",
      "text/plain": [
       "<Figure size 432x288 with 1 Axes>"
      ]
     },
     "metadata": {
      "needs_background": "light"
     },
     "output_type": "display_data"
    }
   ],
   "source": [
    "#Plotting the graph for CTC category\n",
    "\n",
    "data['CTC_Category'].value_counts(normalize=True).plot.bar(title='Last Quarterly Rating')\n",
    "\n",
    "#We see most of the employees are either categorized under 'Low' or 'High' category"
   ]
  },
  {
   "cell_type": "markdown",
   "metadata": {},
   "source": [
    "### Manual Clustering"
   ]
  },
  {
   "cell_type": "code",
   "execution_count": 240,
   "metadata": {},
   "outputs": [],
   "source": [
    "grp = ['company_hash']\n",
    "data_new = data.groupby(grp).agg({'ctc':[('mean3','mean'),'median','min','max','count']}).reset_index()\n",
    "data_new.columns  = [\"{} {}\".format(b_, a_) if a_ not in grp else \"{}\".format(a_) for a_, b_ in zip(data_new.columns.droplevel(1), data_new.columns.droplevel(0))  ]\n",
    "data_new.head(100).tail(50)\n",
    "\n",
    "\n",
    "data_temp = data.merge(data_new[grp + ['mean3 ctc']],on=grp,how='left')\n",
    "\n",
    "col1 = 'ctc'\n",
    "col2 = 'mean3 ctc' \n",
    "conditions  = [ data_temp[col1] > data_temp[col2], data_temp[col1] == data_temp[col2], data_temp[col1] < data_temp[col2] ]\n",
    "choices     = [ 1, 2, 3 ]\n",
    "    \n",
    "data_temp['Tier'] = np.select(conditions, choices, default=np.nan)"
   ]
  },
  {
   "cell_type": "code",
   "execution_count": 179,
   "metadata": {},
   "outputs": [],
   "source": [
    "data_temp['tier_diff'] = data_temp['ctc'] - data_temp['mean3 ctc']"
   ]
  },
  {
   "cell_type": "code",
   "execution_count": 180,
   "metadata": {},
   "outputs": [
    {
     "data": {
      "text/html": [
       "<div>\n",
       "<style scoped>\n",
       "    .dataframe tbody tr th:only-of-type {\n",
       "        vertical-align: middle;\n",
       "    }\n",
       "\n",
       "    .dataframe tbody tr th {\n",
       "        vertical-align: top;\n",
       "    }\n",
       "\n",
       "    .dataframe thead th {\n",
       "        text-align: right;\n",
       "    }\n",
       "</style>\n",
       "<table border=\"1\" class=\"dataframe\">\n",
       "  <thead>\n",
       "    <tr style=\"text-align: right;\">\n",
       "      <th></th>\n",
       "      <th>orgyear</th>\n",
       "      <th>ctc</th>\n",
       "      <th>ctc_updated_year</th>\n",
       "      <th>company_hash</th>\n",
       "      <th>email_hash</th>\n",
       "      <th>job_position</th>\n",
       "      <th>Years_of_Experience</th>\n",
       "      <th>CTC_Category</th>\n",
       "      <th>mean3 ctc</th>\n",
       "      <th>Tier</th>\n",
       "      <th>tier_diff</th>\n",
       "    </tr>\n",
       "  </thead>\n",
       "  <tbody>\n",
       "    <tr>\n",
       "      <th>0</th>\n",
       "      <td>2016.0</td>\n",
       "      <td>1100000.0</td>\n",
       "      <td>2020.0</td>\n",
       "      <td>atrgxnnt xzaxv</td>\n",
       "      <td>6de0a4417d18ab14334c3f43397fc13b30c35149d70c05...</td>\n",
       "      <td>Other</td>\n",
       "      <td>7.0</td>\n",
       "      <td>Average</td>\n",
       "      <td>1.115667e+06</td>\n",
       "      <td>3.0</td>\n",
       "      <td>-15666.666667</td>\n",
       "    </tr>\n",
       "    <tr>\n",
       "      <th>1</th>\n",
       "      <td>2018.0</td>\n",
       "      <td>449999.0</td>\n",
       "      <td>2019.0</td>\n",
       "      <td>qtrxvzwt xzegwgbb rxbxnta</td>\n",
       "      <td>b0aaf1ac138b53cb6e039ba2c3d6604a250d02d5145c10...</td>\n",
       "      <td>FullStack Engineer</td>\n",
       "      <td>5.0</td>\n",
       "      <td>Low</td>\n",
       "      <td>1.290895e+06</td>\n",
       "      <td>3.0</td>\n",
       "      <td>-840896.049275</td>\n",
       "    </tr>\n",
       "    <tr>\n",
       "      <th>2</th>\n",
       "      <td>2015.0</td>\n",
       "      <td>2000000.0</td>\n",
       "      <td>2020.0</td>\n",
       "      <td>ojzwnvwnxw vx</td>\n",
       "      <td>4860c670bcd48fb96c02a4b0ae3608ae6fdd98176112e9...</td>\n",
       "      <td>Backend Engineer</td>\n",
       "      <td>8.0</td>\n",
       "      <td>High</td>\n",
       "      <td>2.000000e+06</td>\n",
       "      <td>2.0</td>\n",
       "      <td>0.000000</td>\n",
       "    </tr>\n",
       "    <tr>\n",
       "      <th>3</th>\n",
       "      <td>2017.0</td>\n",
       "      <td>700000.0</td>\n",
       "      <td>2019.0</td>\n",
       "      <td>ngpgutaxv</td>\n",
       "      <td>effdede7a2e7c2af664c8a31d9346385016128d66bbc58...</td>\n",
       "      <td>Backend Engineer</td>\n",
       "      <td>6.0</td>\n",
       "      <td>Low</td>\n",
       "      <td>1.580481e+06</td>\n",
       "      <td>3.0</td>\n",
       "      <td>-880480.769231</td>\n",
       "    </tr>\n",
       "    <tr>\n",
       "      <th>4</th>\n",
       "      <td>2017.0</td>\n",
       "      <td>1400000.0</td>\n",
       "      <td>2019.0</td>\n",
       "      <td>qxen sqghu</td>\n",
       "      <td>6ff54e709262f55cb999a1c1db8436cb2055d8f79ab520...</td>\n",
       "      <td>FullStack Engineer</td>\n",
       "      <td>6.0</td>\n",
       "      <td>Average</td>\n",
       "      <td>8.480000e+05</td>\n",
       "      <td>1.0</td>\n",
       "      <td>552000.000000</td>\n",
       "    </tr>\n",
       "  </tbody>\n",
       "</table>\n",
       "</div>"
      ],
      "text/plain": [
       "   orgyear        ctc  ctc_updated_year               company_hash  \\\n",
       "0   2016.0  1100000.0            2020.0             atrgxnnt xzaxv   \n",
       "1   2018.0   449999.0            2019.0  qtrxvzwt xzegwgbb rxbxnta   \n",
       "2   2015.0  2000000.0            2020.0              ojzwnvwnxw vx   \n",
       "3   2017.0   700000.0            2019.0                  ngpgutaxv   \n",
       "4   2017.0  1400000.0            2019.0                 qxen sqghu   \n",
       "\n",
       "                                          email_hash        job_position  \\\n",
       "0  6de0a4417d18ab14334c3f43397fc13b30c35149d70c05...               Other   \n",
       "1  b0aaf1ac138b53cb6e039ba2c3d6604a250d02d5145c10...  FullStack Engineer   \n",
       "2  4860c670bcd48fb96c02a4b0ae3608ae6fdd98176112e9...    Backend Engineer   \n",
       "3  effdede7a2e7c2af664c8a31d9346385016128d66bbc58...    Backend Engineer   \n",
       "4  6ff54e709262f55cb999a1c1db8436cb2055d8f79ab520...  FullStack Engineer   \n",
       "\n",
       "   Years_of_Experience CTC_Category     mean3 ctc  Tier      tier_diff  \n",
       "0                  7.0      Average  1.115667e+06   3.0  -15666.666667  \n",
       "1                  5.0          Low  1.290895e+06   3.0 -840896.049275  \n",
       "2                  8.0         High  2.000000e+06   2.0       0.000000  \n",
       "3                  6.0          Low  1.580481e+06   3.0 -880480.769231  \n",
       "4                  6.0      Average  8.480000e+05   1.0  552000.000000  "
      ]
     },
     "execution_count": 180,
     "metadata": {},
     "output_type": "execute_result"
    }
   ],
   "source": [
    "data_temp.head()"
   ]
  },
  {
   "cell_type": "code",
   "execution_count": 181,
   "metadata": {},
   "outputs": [
    {
     "data": {
      "text/plain": [
       "orgyear                float64\n",
       "ctc                    float64\n",
       "ctc_updated_year       float64\n",
       "company_hash            object\n",
       "email_hash              object\n",
       "job_position            object\n",
       "Years_of_Experience    float64\n",
       "CTC_Category            object\n",
       "mean3 ctc              float64\n",
       "Tier                   float64\n",
       "tier_diff              float64\n",
       "dtype: object"
      ]
     },
     "execution_count": 181,
     "metadata": {},
     "output_type": "execute_result"
    }
   ],
   "source": [
    "data_temp.dtypes"
   ]
  },
  {
   "cell_type": "markdown",
   "metadata": {},
   "source": [
    "#### Top 10 employees (earning more than most of the employees in the company) - Tier 1"
   ]
  },
  {
   "cell_type": "code",
   "execution_count": 182,
   "metadata": {},
   "outputs": [
    {
     "data": {
      "text/html": [
       "<div>\n",
       "<style scoped>\n",
       "    .dataframe tbody tr th:only-of-type {\n",
       "        vertical-align: middle;\n",
       "    }\n",
       "\n",
       "    .dataframe tbody tr th {\n",
       "        vertical-align: top;\n",
       "    }\n",
       "\n",
       "    .dataframe thead th {\n",
       "        text-align: right;\n",
       "    }\n",
       "</style>\n",
       "<table border=\"1\" class=\"dataframe\">\n",
       "  <thead>\n",
       "    <tr style=\"text-align: right;\">\n",
       "      <th></th>\n",
       "      <th>email_hash</th>\n",
       "      <th>ctc</th>\n",
       "      <th>mean3 ctc</th>\n",
       "    </tr>\n",
       "  </thead>\n",
       "  <tbody>\n",
       "    <tr>\n",
       "      <th>23759</th>\n",
       "      <td>c10e681ee046b07a7b93708d92e723dd4eba7cdab0177f...</td>\n",
       "      <td>40150000.0</td>\n",
       "      <td>9.682193e+05</td>\n",
       "    </tr>\n",
       "    <tr>\n",
       "      <th>15458</th>\n",
       "      <td>a7d4f2a279c70032c8448d4963cc72cb49145740929135...</td>\n",
       "      <td>40000000.0</td>\n",
       "      <td>8.632420e+05</td>\n",
       "    </tr>\n",
       "    <tr>\n",
       "      <th>14048</th>\n",
       "      <td>405acce4415219a5001f40c37ca2e5f07d433a8e769641...</td>\n",
       "      <td>39900000.0</td>\n",
       "      <td>8.233380e+05</td>\n",
       "    </tr>\n",
       "    <tr>\n",
       "      <th>14772</th>\n",
       "      <td>c97964bbf7f0f192cd4e4650cbc0fb01366a8f6165e75f...</td>\n",
       "      <td>40000000.0</td>\n",
       "      <td>1.084823e+06</td>\n",
       "    </tr>\n",
       "    <tr>\n",
       "      <th>75548</th>\n",
       "      <td>a7b47e958b5a48f375cb74e23537b601396356545a19c5...</td>\n",
       "      <td>40000000.0</td>\n",
       "      <td>1.104836e+06</td>\n",
       "    </tr>\n",
       "    <tr>\n",
       "      <th>40072</th>\n",
       "      <td>c240203d659ee5ef1a7ed9d8368ec86b7fc1d21e10701b...</td>\n",
       "      <td>39800000.0</td>\n",
       "      <td>1.109801e+06</td>\n",
       "    </tr>\n",
       "    <tr>\n",
       "      <th>108377</th>\n",
       "      <td>a7b47e958b5a48f375cb74e23537b601396356545a19c5...</td>\n",
       "      <td>40000000.0</td>\n",
       "      <td>1.311297e+06</td>\n",
       "    </tr>\n",
       "    <tr>\n",
       "      <th>10518</th>\n",
       "      <td>03536d058ef6743a1e2377620f31b8bb9851377b9ba84b...</td>\n",
       "      <td>40000000.0</td>\n",
       "      <td>1.357678e+06</td>\n",
       "    </tr>\n",
       "    <tr>\n",
       "      <th>122705</th>\n",
       "      <td>c6409229b18c5c814e6e41c795626c72592b383286194c...</td>\n",
       "      <td>40000000.0</td>\n",
       "      <td>1.421259e+06</td>\n",
       "    </tr>\n",
       "    <tr>\n",
       "      <th>128111</th>\n",
       "      <td>55c7eef700e87fcd506c731be6dbbdcb79bf709678c2eb...</td>\n",
       "      <td>39600000.0</td>\n",
       "      <td>1.759410e+06</td>\n",
       "    </tr>\n",
       "  </tbody>\n",
       "</table>\n",
       "</div>"
      ],
      "text/plain": [
       "                                               email_hash         ctc  \\\n",
       "23759   c10e681ee046b07a7b93708d92e723dd4eba7cdab0177f...  40150000.0   \n",
       "15458   a7d4f2a279c70032c8448d4963cc72cb49145740929135...  40000000.0   \n",
       "14048   405acce4415219a5001f40c37ca2e5f07d433a8e769641...  39900000.0   \n",
       "14772   c97964bbf7f0f192cd4e4650cbc0fb01366a8f6165e75f...  40000000.0   \n",
       "75548   a7b47e958b5a48f375cb74e23537b601396356545a19c5...  40000000.0   \n",
       "40072   c240203d659ee5ef1a7ed9d8368ec86b7fc1d21e10701b...  39800000.0   \n",
       "108377  a7b47e958b5a48f375cb74e23537b601396356545a19c5...  40000000.0   \n",
       "10518   03536d058ef6743a1e2377620f31b8bb9851377b9ba84b...  40000000.0   \n",
       "122705  c6409229b18c5c814e6e41c795626c72592b383286194c...  40000000.0   \n",
       "128111  55c7eef700e87fcd506c731be6dbbdcb79bf709678c2eb...  39600000.0   \n",
       "\n",
       "           mean3 ctc  \n",
       "23759   9.682193e+05  \n",
       "15458   8.632420e+05  \n",
       "14048   8.233380e+05  \n",
       "14772   1.084823e+06  \n",
       "75548   1.104836e+06  \n",
       "40072   1.109801e+06  \n",
       "108377  1.311297e+06  \n",
       "10518   1.357678e+06  \n",
       "122705  1.421259e+06  \n",
       "128111  1.759410e+06  "
      ]
     },
     "execution_count": 182,
     "metadata": {},
     "output_type": "execute_result"
    }
   ],
   "source": [
    "data_temp[data_temp['Tier'] == 1.0].sort_values('tier_diff',ascending=False).head(10)[['email_hash','ctc','mean3 ctc']]"
   ]
  },
  {
   "cell_type": "markdown",
   "metadata": {},
   "source": [
    "#### Bottom 10 employees (earning less than most of the employees in the company)- Tier 3"
   ]
  },
  {
   "cell_type": "code",
   "execution_count": 183,
   "metadata": {},
   "outputs": [
    {
     "data": {
      "text/html": [
       "<div>\n",
       "<style scoped>\n",
       "    .dataframe tbody tr th:only-of-type {\n",
       "        vertical-align: middle;\n",
       "    }\n",
       "\n",
       "    .dataframe tbody tr th {\n",
       "        vertical-align: top;\n",
       "    }\n",
       "\n",
       "    .dataframe thead th {\n",
       "        text-align: right;\n",
       "    }\n",
       "</style>\n",
       "<table border=\"1\" class=\"dataframe\">\n",
       "  <thead>\n",
       "    <tr style=\"text-align: right;\">\n",
       "      <th></th>\n",
       "      <th>email_hash</th>\n",
       "      <th>ctc</th>\n",
       "      <th>mean3 ctc</th>\n",
       "    </tr>\n",
       "  </thead>\n",
       "  <tbody>\n",
       "    <tr>\n",
       "      <th>100368</th>\n",
       "      <td>9ca86eeb00a5d60bb89f69e8229e21e25a12c4f98240b5...</td>\n",
       "      <td>50000.0</td>\n",
       "      <td>2.002500e+07</td>\n",
       "    </tr>\n",
       "    <tr>\n",
       "      <th>142625</th>\n",
       "      <td>fbbbddb9828a870c38f5b8f0fc91fcb2158ccb678fbd09...</td>\n",
       "      <td>200000.0</td>\n",
       "      <td>1.473333e+07</td>\n",
       "    </tr>\n",
       "    <tr>\n",
       "      <th>21063</th>\n",
       "      <td>f1f2edf4fe0ad0264298b2b95544c549a0d9803f3d4e92...</td>\n",
       "      <td>500000.0</td>\n",
       "      <td>1.400000e+07</td>\n",
       "    </tr>\n",
       "    <tr>\n",
       "      <th>4836</th>\n",
       "      <td>046ac7f8b43e489986d07b565a983765374fcd19e27e17...</td>\n",
       "      <td>200000.0</td>\n",
       "      <td>1.210000e+07</td>\n",
       "    </tr>\n",
       "    <tr>\n",
       "      <th>100366</th>\n",
       "      <td>80b7cf9e765e92b88bed049154dcb09a187b37248b0194...</td>\n",
       "      <td>450000.0</td>\n",
       "      <td>1.121667e+07</td>\n",
       "    </tr>\n",
       "    <tr>\n",
       "      <th>68310</th>\n",
       "      <td>0c9b0d53b1b92b492aa7c7dc96768b54dc04066792c500...</td>\n",
       "      <td>2000000.0</td>\n",
       "      <td>1.233333e+07</td>\n",
       "    </tr>\n",
       "    <tr>\n",
       "      <th>121104</th>\n",
       "      <td>bf108a60e196ec00c6dfff7c1d0585df7e79f1e96105b0...</td>\n",
       "      <td>180000.0</td>\n",
       "      <td>1.039333e+07</td>\n",
       "    </tr>\n",
       "    <tr>\n",
       "      <th>70471</th>\n",
       "      <td>a57070b10adb654f3354575d6d66f1e3763abd9bb1d1a3...</td>\n",
       "      <td>100000.0</td>\n",
       "      <td>1.005000e+07</td>\n",
       "    </tr>\n",
       "    <tr>\n",
       "      <th>69546</th>\n",
       "      <td>bfdcb1bf2720f697dbdb023384ac4fe38e9d14e3bd2f0a...</td>\n",
       "      <td>700000.0</td>\n",
       "      <td>1.061333e+07</td>\n",
       "    </tr>\n",
       "    <tr>\n",
       "      <th>92894</th>\n",
       "      <td>2355bdc31a9bec916a281e5f6020bd563c349f29d5469b...</td>\n",
       "      <td>200000.0</td>\n",
       "      <td>1.010000e+07</td>\n",
       "    </tr>\n",
       "  </tbody>\n",
       "</table>\n",
       "</div>"
      ],
      "text/plain": [
       "                                               email_hash        ctc  \\\n",
       "100368  9ca86eeb00a5d60bb89f69e8229e21e25a12c4f98240b5...    50000.0   \n",
       "142625  fbbbddb9828a870c38f5b8f0fc91fcb2158ccb678fbd09...   200000.0   \n",
       "21063   f1f2edf4fe0ad0264298b2b95544c549a0d9803f3d4e92...   500000.0   \n",
       "4836    046ac7f8b43e489986d07b565a983765374fcd19e27e17...   200000.0   \n",
       "100366  80b7cf9e765e92b88bed049154dcb09a187b37248b0194...   450000.0   \n",
       "68310   0c9b0d53b1b92b492aa7c7dc96768b54dc04066792c500...  2000000.0   \n",
       "121104  bf108a60e196ec00c6dfff7c1d0585df7e79f1e96105b0...   180000.0   \n",
       "70471   a57070b10adb654f3354575d6d66f1e3763abd9bb1d1a3...   100000.0   \n",
       "69546   bfdcb1bf2720f697dbdb023384ac4fe38e9d14e3bd2f0a...   700000.0   \n",
       "92894   2355bdc31a9bec916a281e5f6020bd563c349f29d5469b...   200000.0   \n",
       "\n",
       "           mean3 ctc  \n",
       "100368  2.002500e+07  \n",
       "142625  1.473333e+07  \n",
       "21063   1.400000e+07  \n",
       "4836    1.210000e+07  \n",
       "100366  1.121667e+07  \n",
       "68310   1.233333e+07  \n",
       "121104  1.039333e+07  \n",
       "70471   1.005000e+07  \n",
       "69546   1.061333e+07  \n",
       "92894   1.010000e+07  "
      ]
     },
     "execution_count": 183,
     "metadata": {},
     "output_type": "execute_result"
    }
   ],
   "source": [
    "data_temp[data_temp['Tier'] == 3].sort_values('tier_diff',ascending=True).head(10)[['email_hash','ctc','mean3 ctc']]"
   ]
  },
  {
   "cell_type": "markdown",
   "metadata": {},
   "source": [
    "#### Top 10 companies (based on their CTC)"
   ]
  },
  {
   "cell_type": "code",
   "execution_count": 184,
   "metadata": {},
   "outputs": [
    {
     "data": {
      "text/html": [
       "<div>\n",
       "<style scoped>\n",
       "    .dataframe tbody tr th:only-of-type {\n",
       "        vertical-align: middle;\n",
       "    }\n",
       "\n",
       "    .dataframe tbody tr th {\n",
       "        vertical-align: top;\n",
       "    }\n",
       "\n",
       "    .dataframe thead th {\n",
       "        text-align: right;\n",
       "    }\n",
       "</style>\n",
       "<table border=\"1\" class=\"dataframe\">\n",
       "  <thead>\n",
       "    <tr style=\"text-align: right;\">\n",
       "      <th></th>\n",
       "      <th>company_hash</th>\n",
       "      <th>ctc</th>\n",
       "    </tr>\n",
       "  </thead>\n",
       "  <tbody>\n",
       "    <tr>\n",
       "      <th>33440</th>\n",
       "      <td>xzntqvwnxctmttoucn</td>\n",
       "      <td>40000000.0</td>\n",
       "    </tr>\n",
       "    <tr>\n",
       "      <th>4756</th>\n",
       "      <td>cxzxrgp ogrhnxgz ucn rna</td>\n",
       "      <td>40000000.0</td>\n",
       "    </tr>\n",
       "    <tr>\n",
       "      <th>1901</th>\n",
       "      <td>bgpoyvq wqtvnxct onhaxgo</td>\n",
       "      <td>40000000.0</td>\n",
       "    </tr>\n",
       "    <tr>\n",
       "      <th>26373</th>\n",
       "      <td>vhqtwgz</td>\n",
       "      <td>40000000.0</td>\n",
       "    </tr>\n",
       "    <tr>\n",
       "      <th>30982</th>\n",
       "      <td>wvqqteghqtq</td>\n",
       "      <td>40000000.0</td>\n",
       "    </tr>\n",
       "    <tr>\n",
       "      <th>1178</th>\n",
       "      <td>avtfgg uvwp</td>\n",
       "      <td>40000000.0</td>\n",
       "    </tr>\n",
       "    <tr>\n",
       "      <th>17697</th>\n",
       "      <td>pgnnvzk</td>\n",
       "      <td>40000000.0</td>\n",
       "    </tr>\n",
       "    <tr>\n",
       "      <th>1864</th>\n",
       "      <td>bgngktz ehtr ojontb</td>\n",
       "      <td>36360000.0</td>\n",
       "    </tr>\n",
       "    <tr>\n",
       "      <th>21426</th>\n",
       "      <td>srgmvr ogenfvqt</td>\n",
       "      <td>36000000.0</td>\n",
       "    </tr>\n",
       "    <tr>\n",
       "      <th>35234</th>\n",
       "      <td>zgmrt ogen ntwyzgrgsxto ucn rna</td>\n",
       "      <td>35300000.0</td>\n",
       "    </tr>\n",
       "  </tbody>\n",
       "</table>\n",
       "</div>"
      ],
      "text/plain": [
       "                          company_hash         ctc\n",
       "33440               xzntqvwnxctmttoucn  40000000.0\n",
       "4756          cxzxrgp ogrhnxgz ucn rna  40000000.0\n",
       "1901          bgpoyvq wqtvnxct onhaxgo  40000000.0\n",
       "26373                          vhqtwgz  40000000.0\n",
       "30982                      wvqqteghqtq  40000000.0\n",
       "1178                       avtfgg uvwp  40000000.0\n",
       "17697                          pgnnvzk  40000000.0\n",
       "1864               bgngktz ehtr ojontb  36360000.0\n",
       "21426                  srgmvr ogenfvqt  36000000.0\n",
       "35234  zgmrt ogen ntwyzgrgsxto ucn rna  35300000.0"
      ]
     },
     "execution_count": 184,
     "metadata": {},
     "output_type": "execute_result"
    }
   ],
   "source": [
    "data_temp.groupby('company_hash').mean()['ctc'].reset_index().sort_values('ctc',ascending=False).head(10)[['company_hash','ctc']]"
   ]
  },
  {
   "cell_type": "markdown",
   "metadata": {},
   "source": [
    "#### Top 2 positions in every company (based on their CTC)"
   ]
  },
  {
   "cell_type": "code",
   "execution_count": 185,
   "metadata": {},
   "outputs": [
    {
     "data": {
      "text/html": [
       "<div>\n",
       "<style scoped>\n",
       "    .dataframe tbody tr th:only-of-type {\n",
       "        vertical-align: middle;\n",
       "    }\n",
       "\n",
       "    .dataframe tbody tr th {\n",
       "        vertical-align: top;\n",
       "    }\n",
       "\n",
       "    .dataframe thead th {\n",
       "        text-align: right;\n",
       "    }\n",
       "</style>\n",
       "<table border=\"1\" class=\"dataframe\">\n",
       "  <thead>\n",
       "    <tr style=\"text-align: right;\">\n",
       "      <th></th>\n",
       "      <th>company_hash</th>\n",
       "      <th>job_position</th>\n",
       "    </tr>\n",
       "  </thead>\n",
       "  <tbody>\n",
       "    <tr>\n",
       "      <th>0</th>\n",
       "      <td></td>\n",
       "      <td>Engineering Leadership</td>\n",
       "    </tr>\n",
       "    <tr>\n",
       "      <th>1</th>\n",
       "      <td></td>\n",
       "      <td>Android Engineer</td>\n",
       "    </tr>\n",
       "    <tr>\n",
       "      <th>10</th>\n",
       "      <td></td>\n",
       "      <td>Backend Engineer</td>\n",
       "    </tr>\n",
       "    <tr>\n",
       "      <th>11</th>\n",
       "      <td>fvj ntwyzgrgsj</td>\n",
       "      <td>Frontend Engineer</td>\n",
       "    </tr>\n",
       "    <tr>\n",
       "      <th>12</th>\n",
       "      <td>atsqtt ntwyzgogen</td>\n",
       "      <td>Backend Engineer</td>\n",
       "    </tr>\n",
       "    <tr>\n",
       "      <th>...</th>\n",
       "      <td>...</td>\n",
       "      <td>...</td>\n",
       "    </tr>\n",
       "    <tr>\n",
       "      <th>58449</th>\n",
       "      <td>zz</td>\n",
       "      <td>Other</td>\n",
       "    </tr>\n",
       "    <tr>\n",
       "      <th>58450</th>\n",
       "      <td>zz wgzztwn mya</td>\n",
       "      <td>Other</td>\n",
       "    </tr>\n",
       "    <tr>\n",
       "      <th>58451</th>\n",
       "      <td>zzb ztdnstz vacxogqj ucn rna</td>\n",
       "      <td>FullStack Engineer</td>\n",
       "    </tr>\n",
       "    <tr>\n",
       "      <th>58452</th>\n",
       "      <td>zzgato</td>\n",
       "      <td>Backend Engineer</td>\n",
       "    </tr>\n",
       "    <tr>\n",
       "      <th>58453</th>\n",
       "      <td>zzzbzb</td>\n",
       "      <td>Other</td>\n",
       "    </tr>\n",
       "  </tbody>\n",
       "</table>\n",
       "<p>44103 rows × 2 columns</p>\n",
       "</div>"
      ],
      "text/plain": [
       "                       company_hash            job_position\n",
       "0                                    Engineering Leadership\n",
       "1                                          Android Engineer\n",
       "10                                         Backend Engineer\n",
       "11                   fvj ntwyzgrgsj       Frontend Engineer\n",
       "12                atsqtt ntwyzgogen        Backend Engineer\n",
       "...                             ...                     ...\n",
       "58449                            zz                   Other\n",
       "58450                zz wgzztwn mya                   Other\n",
       "58451  zzb ztdnstz vacxogqj ucn rna      FullStack Engineer\n",
       "58452                        zzgato        Backend Engineer\n",
       "58453                        zzzbzb                   Other\n",
       "\n",
       "[44103 rows x 2 columns]"
      ]
     },
     "execution_count": 185,
     "metadata": {},
     "output_type": "execute_result"
    }
   ],
   "source": [
    "position = data_temp[data_temp['job_position'] != 'na']\n",
    "position = position.groupby(['company_hash','job_position']).mean().sort_values(['company_hash','ctc']).reset_index()\n",
    "position = position.groupby('company_hash').head(2)[['company_hash','job_position']]\n",
    "position"
   ]
  },
  {
   "cell_type": "markdown",
   "metadata": {},
   "source": [
    "### Data Preparation for Modeling"
   ]
  },
  {
   "cell_type": "code",
   "execution_count": 188,
   "metadata": {},
   "outputs": [],
   "source": [
    "#Label Encoding for CTC_Category feature\n",
    "\n",
    "from sklearn.preprocessing import LabelEncoder\n",
    "label_encoder = LabelEncoder()\n",
    "data_temp['CTC_Category'] = label_encoder.fit_transform(data_temp['CTC_Category'])"
   ]
  },
  {
   "cell_type": "code",
   "execution_count": 189,
   "metadata": {},
   "outputs": [
    {
     "data": {
      "text/html": [
       "<div>\n",
       "<style scoped>\n",
       "    .dataframe tbody tr th:only-of-type {\n",
       "        vertical-align: middle;\n",
       "    }\n",
       "\n",
       "    .dataframe tbody tr th {\n",
       "        vertical-align: top;\n",
       "    }\n",
       "\n",
       "    .dataframe thead th {\n",
       "        text-align: right;\n",
       "    }\n",
       "</style>\n",
       "<table border=\"1\" class=\"dataframe\">\n",
       "  <thead>\n",
       "    <tr style=\"text-align: right;\">\n",
       "      <th></th>\n",
       "      <th>orgyear</th>\n",
       "      <th>ctc</th>\n",
       "      <th>ctc_updated_year</th>\n",
       "      <th>company_hash</th>\n",
       "      <th>email_hash</th>\n",
       "      <th>job_position</th>\n",
       "      <th>Years_of_Experience</th>\n",
       "      <th>CTC_Category</th>\n",
       "      <th>mean3 ctc</th>\n",
       "      <th>Tier</th>\n",
       "      <th>tier_diff</th>\n",
       "    </tr>\n",
       "  </thead>\n",
       "  <tbody>\n",
       "    <tr>\n",
       "      <th>0</th>\n",
       "      <td>2016.0</td>\n",
       "      <td>1100000.0</td>\n",
       "      <td>2020.0</td>\n",
       "      <td>atrgxnnt xzaxv</td>\n",
       "      <td>6de0a4417d18ab14334c3f43397fc13b30c35149d70c05...</td>\n",
       "      <td>Other</td>\n",
       "      <td>7.0</td>\n",
       "      <td>0</td>\n",
       "      <td>1.115667e+06</td>\n",
       "      <td>3.0</td>\n",
       "      <td>-15666.666667</td>\n",
       "    </tr>\n",
       "    <tr>\n",
       "      <th>1</th>\n",
       "      <td>2018.0</td>\n",
       "      <td>449999.0</td>\n",
       "      <td>2019.0</td>\n",
       "      <td>qtrxvzwt xzegwgbb rxbxnta</td>\n",
       "      <td>b0aaf1ac138b53cb6e039ba2c3d6604a250d02d5145c10...</td>\n",
       "      <td>FullStack Engineer</td>\n",
       "      <td>5.0</td>\n",
       "      <td>2</td>\n",
       "      <td>1.290895e+06</td>\n",
       "      <td>3.0</td>\n",
       "      <td>-840896.049275</td>\n",
       "    </tr>\n",
       "    <tr>\n",
       "      <th>2</th>\n",
       "      <td>2015.0</td>\n",
       "      <td>2000000.0</td>\n",
       "      <td>2020.0</td>\n",
       "      <td>ojzwnvwnxw vx</td>\n",
       "      <td>4860c670bcd48fb96c02a4b0ae3608ae6fdd98176112e9...</td>\n",
       "      <td>Backend Engineer</td>\n",
       "      <td>8.0</td>\n",
       "      <td>1</td>\n",
       "      <td>2.000000e+06</td>\n",
       "      <td>2.0</td>\n",
       "      <td>0.000000</td>\n",
       "    </tr>\n",
       "    <tr>\n",
       "      <th>3</th>\n",
       "      <td>2017.0</td>\n",
       "      <td>700000.0</td>\n",
       "      <td>2019.0</td>\n",
       "      <td>ngpgutaxv</td>\n",
       "      <td>effdede7a2e7c2af664c8a31d9346385016128d66bbc58...</td>\n",
       "      <td>Backend Engineer</td>\n",
       "      <td>6.0</td>\n",
       "      <td>2</td>\n",
       "      <td>1.580481e+06</td>\n",
       "      <td>3.0</td>\n",
       "      <td>-880480.769231</td>\n",
       "    </tr>\n",
       "    <tr>\n",
       "      <th>4</th>\n",
       "      <td>2017.0</td>\n",
       "      <td>1400000.0</td>\n",
       "      <td>2019.0</td>\n",
       "      <td>qxen sqghu</td>\n",
       "      <td>6ff54e709262f55cb999a1c1db8436cb2055d8f79ab520...</td>\n",
       "      <td>FullStack Engineer</td>\n",
       "      <td>6.0</td>\n",
       "      <td>0</td>\n",
       "      <td>8.480000e+05</td>\n",
       "      <td>1.0</td>\n",
       "      <td>552000.000000</td>\n",
       "    </tr>\n",
       "  </tbody>\n",
       "</table>\n",
       "</div>"
      ],
      "text/plain": [
       "   orgyear        ctc  ctc_updated_year               company_hash  \\\n",
       "0   2016.0  1100000.0            2020.0             atrgxnnt xzaxv   \n",
       "1   2018.0   449999.0            2019.0  qtrxvzwt xzegwgbb rxbxnta   \n",
       "2   2015.0  2000000.0            2020.0              ojzwnvwnxw vx   \n",
       "3   2017.0   700000.0            2019.0                  ngpgutaxv   \n",
       "4   2017.0  1400000.0            2019.0                 qxen sqghu   \n",
       "\n",
       "                                          email_hash        job_position  \\\n",
       "0  6de0a4417d18ab14334c3f43397fc13b30c35149d70c05...               Other   \n",
       "1  b0aaf1ac138b53cb6e039ba2c3d6604a250d02d5145c10...  FullStack Engineer   \n",
       "2  4860c670bcd48fb96c02a4b0ae3608ae6fdd98176112e9...    Backend Engineer   \n",
       "3  effdede7a2e7c2af664c8a31d9346385016128d66bbc58...    Backend Engineer   \n",
       "4  6ff54e709262f55cb999a1c1db8436cb2055d8f79ab520...  FullStack Engineer   \n",
       "\n",
       "   Years_of_Experience  CTC_Category     mean3 ctc  Tier      tier_diff  \n",
       "0                  7.0             0  1.115667e+06   3.0  -15666.666667  \n",
       "1                  5.0             2  1.290895e+06   3.0 -840896.049275  \n",
       "2                  8.0             1  2.000000e+06   2.0       0.000000  \n",
       "3                  6.0             2  1.580481e+06   3.0 -880480.769231  \n",
       "4                  6.0             0  8.480000e+05   1.0  552000.000000  "
      ]
     },
     "execution_count": 189,
     "metadata": {},
     "output_type": "execute_result"
    }
   ],
   "source": [
    "data_temp.head()"
   ]
  },
  {
   "cell_type": "code",
   "execution_count": 190,
   "metadata": {},
   "outputs": [],
   "source": [
    "## Dropping other cateogrical columns\n",
    "\n",
    "data_temp = data_temp.drop(['company_hash','email_hash','job_position'],axis=1)"
   ]
  },
  {
   "cell_type": "code",
   "execution_count": 191,
   "metadata": {},
   "outputs": [
    {
     "data": {
      "text/html": [
       "<div>\n",
       "<style scoped>\n",
       "    .dataframe tbody tr th:only-of-type {\n",
       "        vertical-align: middle;\n",
       "    }\n",
       "\n",
       "    .dataframe tbody tr th {\n",
       "        vertical-align: top;\n",
       "    }\n",
       "\n",
       "    .dataframe thead th {\n",
       "        text-align: right;\n",
       "    }\n",
       "</style>\n",
       "<table border=\"1\" class=\"dataframe\">\n",
       "  <thead>\n",
       "    <tr style=\"text-align: right;\">\n",
       "      <th></th>\n",
       "      <th>orgyear</th>\n",
       "      <th>ctc</th>\n",
       "      <th>ctc_updated_year</th>\n",
       "      <th>Years_of_Experience</th>\n",
       "      <th>CTC_Category</th>\n",
       "      <th>mean3 ctc</th>\n",
       "      <th>Tier</th>\n",
       "      <th>tier_diff</th>\n",
       "    </tr>\n",
       "  </thead>\n",
       "  <tbody>\n",
       "    <tr>\n",
       "      <th>0</th>\n",
       "      <td>2016.0</td>\n",
       "      <td>1100000.0</td>\n",
       "      <td>2020.0</td>\n",
       "      <td>7.0</td>\n",
       "      <td>0</td>\n",
       "      <td>1.115667e+06</td>\n",
       "      <td>3.0</td>\n",
       "      <td>-15666.666667</td>\n",
       "    </tr>\n",
       "    <tr>\n",
       "      <th>1</th>\n",
       "      <td>2018.0</td>\n",
       "      <td>449999.0</td>\n",
       "      <td>2019.0</td>\n",
       "      <td>5.0</td>\n",
       "      <td>2</td>\n",
       "      <td>1.290895e+06</td>\n",
       "      <td>3.0</td>\n",
       "      <td>-840896.049275</td>\n",
       "    </tr>\n",
       "    <tr>\n",
       "      <th>2</th>\n",
       "      <td>2015.0</td>\n",
       "      <td>2000000.0</td>\n",
       "      <td>2020.0</td>\n",
       "      <td>8.0</td>\n",
       "      <td>1</td>\n",
       "      <td>2.000000e+06</td>\n",
       "      <td>2.0</td>\n",
       "      <td>0.000000</td>\n",
       "    </tr>\n",
       "    <tr>\n",
       "      <th>3</th>\n",
       "      <td>2017.0</td>\n",
       "      <td>700000.0</td>\n",
       "      <td>2019.0</td>\n",
       "      <td>6.0</td>\n",
       "      <td>2</td>\n",
       "      <td>1.580481e+06</td>\n",
       "      <td>3.0</td>\n",
       "      <td>-880480.769231</td>\n",
       "    </tr>\n",
       "    <tr>\n",
       "      <th>4</th>\n",
       "      <td>2017.0</td>\n",
       "      <td>1400000.0</td>\n",
       "      <td>2019.0</td>\n",
       "      <td>6.0</td>\n",
       "      <td>0</td>\n",
       "      <td>8.480000e+05</td>\n",
       "      <td>1.0</td>\n",
       "      <td>552000.000000</td>\n",
       "    </tr>\n",
       "  </tbody>\n",
       "</table>\n",
       "</div>"
      ],
      "text/plain": [
       "   orgyear        ctc  ctc_updated_year  Years_of_Experience  CTC_Category  \\\n",
       "0   2016.0  1100000.0            2020.0                  7.0             0   \n",
       "1   2018.0   449999.0            2019.0                  5.0             2   \n",
       "2   2015.0  2000000.0            2020.0                  8.0             1   \n",
       "3   2017.0   700000.0            2019.0                  6.0             2   \n",
       "4   2017.0  1400000.0            2019.0                  6.0             0   \n",
       "\n",
       "      mean3 ctc  Tier      tier_diff  \n",
       "0  1.115667e+06   3.0  -15666.666667  \n",
       "1  1.290895e+06   3.0 -840896.049275  \n",
       "2  2.000000e+06   2.0       0.000000  \n",
       "3  1.580481e+06   3.0 -880480.769231  \n",
       "4  8.480000e+05   1.0  552000.000000  "
      ]
     },
     "execution_count": 191,
     "metadata": {},
     "output_type": "execute_result"
    }
   ],
   "source": [
    "data_temp.head()"
   ]
  },
  {
   "cell_type": "markdown",
   "metadata": {},
   "source": [
    "### Standardization of data"
   ]
  },
  {
   "cell_type": "code",
   "execution_count": 192,
   "metadata": {},
   "outputs": [
    {
     "data": {
      "text/html": [
       "<style>#sk-container-id-3 {color: black;}#sk-container-id-3 pre{padding: 0;}#sk-container-id-3 div.sk-toggleable {background-color: white;}#sk-container-id-3 label.sk-toggleable__label {cursor: pointer;display: block;width: 100%;margin-bottom: 0;padding: 0.3em;box-sizing: border-box;text-align: center;}#sk-container-id-3 label.sk-toggleable__label-arrow:before {content: \"▸\";float: left;margin-right: 0.25em;color: #696969;}#sk-container-id-3 label.sk-toggleable__label-arrow:hover:before {color: black;}#sk-container-id-3 div.sk-estimator:hover label.sk-toggleable__label-arrow:before {color: black;}#sk-container-id-3 div.sk-toggleable__content {max-height: 0;max-width: 0;overflow: hidden;text-align: left;background-color: #f0f8ff;}#sk-container-id-3 div.sk-toggleable__content pre {margin: 0.2em;color: black;border-radius: 0.25em;background-color: #f0f8ff;}#sk-container-id-3 input.sk-toggleable__control:checked~div.sk-toggleable__content {max-height: 200px;max-width: 100%;overflow: auto;}#sk-container-id-3 input.sk-toggleable__control:checked~label.sk-toggleable__label-arrow:before {content: \"▾\";}#sk-container-id-3 div.sk-estimator input.sk-toggleable__control:checked~label.sk-toggleable__label {background-color: #d4ebff;}#sk-container-id-3 div.sk-label input.sk-toggleable__control:checked~label.sk-toggleable__label {background-color: #d4ebff;}#sk-container-id-3 input.sk-hidden--visually {border: 0;clip: rect(1px 1px 1px 1px);clip: rect(1px, 1px, 1px, 1px);height: 1px;margin: -1px;overflow: hidden;padding: 0;position: absolute;width: 1px;}#sk-container-id-3 div.sk-estimator {font-family: monospace;background-color: #f0f8ff;border: 1px dotted black;border-radius: 0.25em;box-sizing: border-box;margin-bottom: 0.5em;}#sk-container-id-3 div.sk-estimator:hover {background-color: #d4ebff;}#sk-container-id-3 div.sk-parallel-item::after {content: \"\";width: 100%;border-bottom: 1px solid gray;flex-grow: 1;}#sk-container-id-3 div.sk-label:hover label.sk-toggleable__label {background-color: #d4ebff;}#sk-container-id-3 div.sk-serial::before {content: \"\";position: absolute;border-left: 1px solid gray;box-sizing: border-box;top: 0;bottom: 0;left: 50%;z-index: 0;}#sk-container-id-3 div.sk-serial {display: flex;flex-direction: column;align-items: center;background-color: white;padding-right: 0.2em;padding-left: 0.2em;position: relative;}#sk-container-id-3 div.sk-item {position: relative;z-index: 1;}#sk-container-id-3 div.sk-parallel {display: flex;align-items: stretch;justify-content: center;background-color: white;position: relative;}#sk-container-id-3 div.sk-item::before, #sk-container-id-3 div.sk-parallel-item::before {content: \"\";position: absolute;border-left: 1px solid gray;box-sizing: border-box;top: 0;bottom: 0;left: 50%;z-index: -1;}#sk-container-id-3 div.sk-parallel-item {display: flex;flex-direction: column;z-index: 1;position: relative;background-color: white;}#sk-container-id-3 div.sk-parallel-item:first-child::after {align-self: flex-end;width: 50%;}#sk-container-id-3 div.sk-parallel-item:last-child::after {align-self: flex-start;width: 50%;}#sk-container-id-3 div.sk-parallel-item:only-child::after {width: 0;}#sk-container-id-3 div.sk-dashed-wrapped {border: 1px dashed gray;margin: 0 0.4em 0.5em 0.4em;box-sizing: border-box;padding-bottom: 0.4em;background-color: white;}#sk-container-id-3 div.sk-label label {font-family: monospace;font-weight: bold;display: inline-block;line-height: 1.2em;}#sk-container-id-3 div.sk-label-container {text-align: center;}#sk-container-id-3 div.sk-container {/* jupyter's `normalize.less` sets `[hidden] { display: none; }` but bootstrap.min.css set `[hidden] { display: none !important; }` so we also need the `!important` here to be able to override the default hidden behavior on the sphinx rendered scikit-learn.org. See: https://github.com/scikit-learn/scikit-learn/issues/21755 */display: inline-block !important;position: relative;}#sk-container-id-3 div.sk-text-repr-fallback {display: none;}</style><div id=\"sk-container-id-3\" class=\"sk-top-container\"><div class=\"sk-text-repr-fallback\"><pre>StandardScaler()</pre><b>In a Jupyter environment, please rerun this cell to show the HTML representation or trust the notebook. <br />On GitHub, the HTML representation is unable to render, please try loading this page with nbviewer.org.</b></div><div class=\"sk-container\" hidden><div class=\"sk-item\"><div class=\"sk-estimator sk-toggleable\"><input class=\"sk-toggleable__control sk-hidden--visually\" id=\"sk-estimator-id-3\" type=\"checkbox\" checked><label for=\"sk-estimator-id-3\" class=\"sk-toggleable__label sk-toggleable__label-arrow\">StandardScaler</label><div class=\"sk-toggleable__content\"><pre>StandardScaler()</pre></div></div></div></div></div>"
      ],
      "text/plain": [
       "StandardScaler()"
      ]
     },
     "execution_count": 192,
     "metadata": {},
     "output_type": "execute_result"
    }
   ],
   "source": [
    "from sklearn.preprocessing import StandardScaler\n",
    "scaler = StandardScaler()\n",
    "scaler.fit(data_temp)"
   ]
  },
  {
   "cell_type": "code",
   "execution_count": 193,
   "metadata": {},
   "outputs": [],
   "source": [
    "data_scaled = scaler.fit_transform(data_temp)"
   ]
  },
  {
   "cell_type": "code",
   "execution_count": 194,
   "metadata": {},
   "outputs": [],
   "source": [
    "data_scaled=pd.DataFrame(data_scaled,columns=data_temp.columns) #Converting to dataframe"
   ]
  },
  {
   "cell_type": "code",
   "execution_count": 195,
   "metadata": {},
   "outputs": [
    {
     "data": {
      "text/html": [
       "<div>\n",
       "<style scoped>\n",
       "    .dataframe tbody tr th:only-of-type {\n",
       "        vertical-align: middle;\n",
       "    }\n",
       "\n",
       "    .dataframe tbody tr th {\n",
       "        vertical-align: top;\n",
       "    }\n",
       "\n",
       "    .dataframe thead th {\n",
       "        text-align: right;\n",
       "    }\n",
       "</style>\n",
       "<table border=\"1\" class=\"dataframe\">\n",
       "  <thead>\n",
       "    <tr style=\"text-align: right;\">\n",
       "      <th></th>\n",
       "      <th>orgyear</th>\n",
       "      <th>ctc</th>\n",
       "      <th>ctc_updated_year</th>\n",
       "      <th>Years_of_Experience</th>\n",
       "      <th>CTC_Category</th>\n",
       "      <th>mean3 ctc</th>\n",
       "      <th>Tier</th>\n",
       "      <th>tier_diff</th>\n",
       "    </tr>\n",
       "  </thead>\n",
       "  <tbody>\n",
       "    <tr>\n",
       "      <th>0</th>\n",
       "      <td>0.254081</td>\n",
       "      <td>-0.160464</td>\n",
       "      <td>0.367231</td>\n",
       "      <td>-0.254081</td>\n",
       "      <td>-1.357661</td>\n",
       "      <td>-0.243003</td>\n",
       "      <td>0.893523</td>\n",
       "      <td>-1.184466e-02</td>\n",
       "    </tr>\n",
       "    <tr>\n",
       "      <th>1</th>\n",
       "      <td>0.713827</td>\n",
       "      <td>-0.545192</td>\n",
       "      <td>-0.439543</td>\n",
       "      <td>-0.713827</td>\n",
       "      <td>1.071782</td>\n",
       "      <td>-0.076305</td>\n",
       "      <td>0.893523</td>\n",
       "      <td>-6.357531e-01</td>\n",
       "    </tr>\n",
       "    <tr>\n",
       "      <th>2</th>\n",
       "      <td>0.024208</td>\n",
       "      <td>0.372236</td>\n",
       "      <td>0.367231</td>\n",
       "      <td>-0.024208</td>\n",
       "      <td>-0.142940</td>\n",
       "      <td>0.598280</td>\n",
       "      <td>-0.242706</td>\n",
       "      <td>-1.352966e-18</td>\n",
       "    </tr>\n",
       "    <tr>\n",
       "      <th>3</th>\n",
       "      <td>0.483954</td>\n",
       "      <td>-0.397219</td>\n",
       "      <td>-0.439543</td>\n",
       "      <td>-0.483954</td>\n",
       "      <td>1.071782</td>\n",
       "      <td>0.199183</td>\n",
       "      <td>0.893523</td>\n",
       "      <td>-6.656808e-01</td>\n",
       "    </tr>\n",
       "    <tr>\n",
       "      <th>4</th>\n",
       "      <td>0.483954</td>\n",
       "      <td>0.017103</td>\n",
       "      <td>-0.439543</td>\n",
       "      <td>-0.483954</td>\n",
       "      <td>-1.357661</td>\n",
       "      <td>-0.497640</td>\n",
       "      <td>-1.378935</td>\n",
       "      <td>4.173354e-01</td>\n",
       "    </tr>\n",
       "  </tbody>\n",
       "</table>\n",
       "</div>"
      ],
      "text/plain": [
       "    orgyear       ctc  ctc_updated_year  Years_of_Experience  CTC_Category  \\\n",
       "0  0.254081 -0.160464          0.367231            -0.254081     -1.357661   \n",
       "1  0.713827 -0.545192         -0.439543            -0.713827      1.071782   \n",
       "2  0.024208  0.372236          0.367231            -0.024208     -0.142940   \n",
       "3  0.483954 -0.397219         -0.439543            -0.483954      1.071782   \n",
       "4  0.483954  0.017103         -0.439543            -0.483954     -1.357661   \n",
       "\n",
       "   mean3 ctc      Tier     tier_diff  \n",
       "0  -0.243003  0.893523 -1.184466e-02  \n",
       "1  -0.076305  0.893523 -6.357531e-01  \n",
       "2   0.598280 -0.242706 -1.352966e-18  \n",
       "3   0.199183  0.893523 -6.656808e-01  \n",
       "4  -0.497640 -1.378935  4.173354e-01  "
      ]
     },
     "execution_count": 195,
     "metadata": {},
     "output_type": "execute_result"
    }
   ],
   "source": [
    "data_scaled.head()"
   ]
  },
  {
   "cell_type": "markdown",
   "metadata": {},
   "source": [
    "### K-means clustering"
   ]
  },
  {
   "cell_type": "code",
   "execution_count": 196,
   "metadata": {},
   "outputs": [],
   "source": [
    "from sklearn.cluster import KMeans"
   ]
  },
  {
   "cell_type": "code",
   "execution_count": 197,
   "metadata": {},
   "outputs": [
    {
     "data": {
      "text/html": [
       "<style>#sk-container-id-4 {color: black;}#sk-container-id-4 pre{padding: 0;}#sk-container-id-4 div.sk-toggleable {background-color: white;}#sk-container-id-4 label.sk-toggleable__label {cursor: pointer;display: block;width: 100%;margin-bottom: 0;padding: 0.3em;box-sizing: border-box;text-align: center;}#sk-container-id-4 label.sk-toggleable__label-arrow:before {content: \"▸\";float: left;margin-right: 0.25em;color: #696969;}#sk-container-id-4 label.sk-toggleable__label-arrow:hover:before {color: black;}#sk-container-id-4 div.sk-estimator:hover label.sk-toggleable__label-arrow:before {color: black;}#sk-container-id-4 div.sk-toggleable__content {max-height: 0;max-width: 0;overflow: hidden;text-align: left;background-color: #f0f8ff;}#sk-container-id-4 div.sk-toggleable__content pre {margin: 0.2em;color: black;border-radius: 0.25em;background-color: #f0f8ff;}#sk-container-id-4 input.sk-toggleable__control:checked~div.sk-toggleable__content {max-height: 200px;max-width: 100%;overflow: auto;}#sk-container-id-4 input.sk-toggleable__control:checked~label.sk-toggleable__label-arrow:before {content: \"▾\";}#sk-container-id-4 div.sk-estimator input.sk-toggleable__control:checked~label.sk-toggleable__label {background-color: #d4ebff;}#sk-container-id-4 div.sk-label input.sk-toggleable__control:checked~label.sk-toggleable__label {background-color: #d4ebff;}#sk-container-id-4 input.sk-hidden--visually {border: 0;clip: rect(1px 1px 1px 1px);clip: rect(1px, 1px, 1px, 1px);height: 1px;margin: -1px;overflow: hidden;padding: 0;position: absolute;width: 1px;}#sk-container-id-4 div.sk-estimator {font-family: monospace;background-color: #f0f8ff;border: 1px dotted black;border-radius: 0.25em;box-sizing: border-box;margin-bottom: 0.5em;}#sk-container-id-4 div.sk-estimator:hover {background-color: #d4ebff;}#sk-container-id-4 div.sk-parallel-item::after {content: \"\";width: 100%;border-bottom: 1px solid gray;flex-grow: 1;}#sk-container-id-4 div.sk-label:hover label.sk-toggleable__label {background-color: #d4ebff;}#sk-container-id-4 div.sk-serial::before {content: \"\";position: absolute;border-left: 1px solid gray;box-sizing: border-box;top: 0;bottom: 0;left: 50%;z-index: 0;}#sk-container-id-4 div.sk-serial {display: flex;flex-direction: column;align-items: center;background-color: white;padding-right: 0.2em;padding-left: 0.2em;position: relative;}#sk-container-id-4 div.sk-item {position: relative;z-index: 1;}#sk-container-id-4 div.sk-parallel {display: flex;align-items: stretch;justify-content: center;background-color: white;position: relative;}#sk-container-id-4 div.sk-item::before, #sk-container-id-4 div.sk-parallel-item::before {content: \"\";position: absolute;border-left: 1px solid gray;box-sizing: border-box;top: 0;bottom: 0;left: 50%;z-index: -1;}#sk-container-id-4 div.sk-parallel-item {display: flex;flex-direction: column;z-index: 1;position: relative;background-color: white;}#sk-container-id-4 div.sk-parallel-item:first-child::after {align-self: flex-end;width: 50%;}#sk-container-id-4 div.sk-parallel-item:last-child::after {align-self: flex-start;width: 50%;}#sk-container-id-4 div.sk-parallel-item:only-child::after {width: 0;}#sk-container-id-4 div.sk-dashed-wrapped {border: 1px dashed gray;margin: 0 0.4em 0.5em 0.4em;box-sizing: border-box;padding-bottom: 0.4em;background-color: white;}#sk-container-id-4 div.sk-label label {font-family: monospace;font-weight: bold;display: inline-block;line-height: 1.2em;}#sk-container-id-4 div.sk-label-container {text-align: center;}#sk-container-id-4 div.sk-container {/* jupyter's `normalize.less` sets `[hidden] { display: none; }` but bootstrap.min.css set `[hidden] { display: none !important; }` so we also need the `!important` here to be able to override the default hidden behavior on the sphinx rendered scikit-learn.org. See: https://github.com/scikit-learn/scikit-learn/issues/21755 */display: inline-block !important;position: relative;}#sk-container-id-4 div.sk-text-repr-fallback {display: none;}</style><div id=\"sk-container-id-4\" class=\"sk-top-container\"><div class=\"sk-text-repr-fallback\"><pre>KMeans(n_clusters=4)</pre><b>In a Jupyter environment, please rerun this cell to show the HTML representation or trust the notebook. <br />On GitHub, the HTML representation is unable to render, please try loading this page with nbviewer.org.</b></div><div class=\"sk-container\" hidden><div class=\"sk-item\"><div class=\"sk-estimator sk-toggleable\"><input class=\"sk-toggleable__control sk-hidden--visually\" id=\"sk-estimator-id-4\" type=\"checkbox\" checked><label for=\"sk-estimator-id-4\" class=\"sk-toggleable__label sk-toggleable__label-arrow\">KMeans</label><div class=\"sk-toggleable__content\"><pre>KMeans(n_clusters=4)</pre></div></div></div></div></div>"
      ],
      "text/plain": [
       "KMeans(n_clusters=4)"
      ]
     },
     "execution_count": 197,
     "metadata": {},
     "output_type": "execute_result"
    }
   ],
   "source": [
    "model = KMeans(n_clusters=4)\n",
    "model.fit(data_scaled)"
   ]
  },
  {
   "cell_type": "code",
   "execution_count": 198,
   "metadata": {},
   "outputs": [
    {
     "data": {
      "text/html": [
       "<div>\n",
       "<style scoped>\n",
       "    .dataframe tbody tr th:only-of-type {\n",
       "        vertical-align: middle;\n",
       "    }\n",
       "\n",
       "    .dataframe tbody tr th {\n",
       "        vertical-align: top;\n",
       "    }\n",
       "\n",
       "    .dataframe thead th {\n",
       "        text-align: right;\n",
       "    }\n",
       "</style>\n",
       "<table border=\"1\" class=\"dataframe\">\n",
       "  <thead>\n",
       "    <tr style=\"text-align: right;\">\n",
       "      <th></th>\n",
       "      <th>orgyear</th>\n",
       "      <th>ctc</th>\n",
       "      <th>ctc_updated_year</th>\n",
       "      <th>Years_of_Experience</th>\n",
       "      <th>CTC_Category</th>\n",
       "      <th>mean3 ctc</th>\n",
       "      <th>Tier</th>\n",
       "      <th>tier_diff</th>\n",
       "    </tr>\n",
       "  </thead>\n",
       "  <tbody>\n",
       "    <tr>\n",
       "      <th>0</th>\n",
       "      <td>0.254081</td>\n",
       "      <td>-0.160464</td>\n",
       "      <td>0.367231</td>\n",
       "      <td>-0.254081</td>\n",
       "      <td>-1.357661</td>\n",
       "      <td>-0.243003</td>\n",
       "      <td>0.893523</td>\n",
       "      <td>-1.184466e-02</td>\n",
       "    </tr>\n",
       "    <tr>\n",
       "      <th>1</th>\n",
       "      <td>0.713827</td>\n",
       "      <td>-0.545192</td>\n",
       "      <td>-0.439543</td>\n",
       "      <td>-0.713827</td>\n",
       "      <td>1.071782</td>\n",
       "      <td>-0.076305</td>\n",
       "      <td>0.893523</td>\n",
       "      <td>-6.357531e-01</td>\n",
       "    </tr>\n",
       "    <tr>\n",
       "      <th>2</th>\n",
       "      <td>0.024208</td>\n",
       "      <td>0.372236</td>\n",
       "      <td>0.367231</td>\n",
       "      <td>-0.024208</td>\n",
       "      <td>-0.142940</td>\n",
       "      <td>0.598280</td>\n",
       "      <td>-0.242706</td>\n",
       "      <td>-1.352966e-18</td>\n",
       "    </tr>\n",
       "    <tr>\n",
       "      <th>3</th>\n",
       "      <td>0.483954</td>\n",
       "      <td>-0.397219</td>\n",
       "      <td>-0.439543</td>\n",
       "      <td>-0.483954</td>\n",
       "      <td>1.071782</td>\n",
       "      <td>0.199183</td>\n",
       "      <td>0.893523</td>\n",
       "      <td>-6.656808e-01</td>\n",
       "    </tr>\n",
       "    <tr>\n",
       "      <th>4</th>\n",
       "      <td>0.483954</td>\n",
       "      <td>0.017103</td>\n",
       "      <td>-0.439543</td>\n",
       "      <td>-0.483954</td>\n",
       "      <td>-1.357661</td>\n",
       "      <td>-0.497640</td>\n",
       "      <td>-1.378935</td>\n",
       "      <td>4.173354e-01</td>\n",
       "    </tr>\n",
       "  </tbody>\n",
       "</table>\n",
       "</div>"
      ],
      "text/plain": [
       "    orgyear       ctc  ctc_updated_year  Years_of_Experience  CTC_Category  \\\n",
       "0  0.254081 -0.160464          0.367231            -0.254081     -1.357661   \n",
       "1  0.713827 -0.545192         -0.439543            -0.713827      1.071782   \n",
       "2  0.024208  0.372236          0.367231            -0.024208     -0.142940   \n",
       "3  0.483954 -0.397219         -0.439543            -0.483954      1.071782   \n",
       "4  0.483954  0.017103         -0.439543            -0.483954     -1.357661   \n",
       "\n",
       "   mean3 ctc      Tier     tier_diff  \n",
       "0  -0.243003  0.893523 -1.184466e-02  \n",
       "1  -0.076305  0.893523 -6.357531e-01  \n",
       "2   0.598280 -0.242706 -1.352966e-18  \n",
       "3   0.199183  0.893523 -6.656808e-01  \n",
       "4  -0.497640 -1.378935  4.173354e-01  "
      ]
     },
     "execution_count": 198,
     "metadata": {},
     "output_type": "execute_result"
    }
   ],
   "source": [
    "data_scaled[:5]"
   ]
  },
  {
   "cell_type": "code",
   "execution_count": 199,
   "metadata": {},
   "outputs": [
    {
     "data": {
      "text/plain": [
       "array([3, 0, 3, ..., 0, 3, 3])"
      ]
     },
     "execution_count": 199,
     "metadata": {},
     "output_type": "execute_result"
    }
   ],
   "source": [
    "model.labels_"
   ]
  },
  {
   "cell_type": "code",
   "execution_count": 200,
   "metadata": {},
   "outputs": [],
   "source": [
    "#plt.scatter(data_scaled[:, 0], data_scaled[:, 1] , data_scaled[:, 2],data_scaled[:, 3],data_scaled[:, 4],data_scaled[:,5],\n",
    "            #data_scaled[:, 6],data_scaled[:, 7],c = model.labels_ )"
   ]
  },
  {
   "cell_type": "code",
   "execution_count": 201,
   "metadata": {},
   "outputs": [
    {
     "data": {
      "text/plain": [
       "716545.2525620821"
      ]
     },
     "execution_count": 201,
     "metadata": {},
     "output_type": "execute_result"
    }
   ],
   "source": [
    "model.inertia_"
   ]
  },
  {
   "cell_type": "code",
   "execution_count": 202,
   "metadata": {},
   "outputs": [],
   "source": [
    "wcss = []\n",
    "for k in range(1,30):\n",
    "    model = KMeans(n_clusters=k)\n",
    "    model.fit(data_scaled)\n",
    "    wcss.append(model.inertia_)"
   ]
  },
  {
   "cell_type": "code",
   "execution_count": 203,
   "metadata": {},
   "outputs": [
    {
     "data": {
      "text/plain": [
       "[<matplotlib.lines.Line2D at 0x29aba842b80>]"
      ]
     },
     "execution_count": 203,
     "metadata": {},
     "output_type": "execute_result"
    },
    {
     "data": {
      "image/png": "[encoded data removed]",
      "text/plain": [
       "<Figure size 432x288 with 1 Axes>"
      ]
     },
     "metadata": {
      "needs_background": "light"
     },
     "output_type": "display_data"
    }
   ],
   "source": [
    "plt.plot(range(1, 30), wcss, marker = 'o')"
   ]
  },
  {
   "cell_type": "markdown",
   "metadata": {},
   "source": [
    "The optimal number of clusters is around 16-20 using Elbow method"
   ]
  },
  {
   "cell_type": "code",
   "execution_count": 204,
   "metadata": {},
   "outputs": [
    {
     "data": {
      "text/plain": [
       "8     18459\n",
       "20    12097\n",
       "1     10004\n",
       "12     9256\n",
       "0      9230\n",
       "2      8888\n",
       "23     8667\n",
       "25     7538\n",
       "21     7328\n",
       "24     7023\n",
       "5      6452\n",
       "10     6113\n",
       "22     5866\n",
       "14     5522\n",
       "19     4893\n",
       "11     4656\n",
       "3      4576\n",
       "9      3894\n",
       "18     3883\n",
       "6      2913\n",
       "26     2095\n",
       "28     2026\n",
       "16     1867\n",
       "13     1401\n",
       "15      723\n",
       "27      459\n",
       "4       158\n",
       "7        80\n",
       "17       61\n",
       "dtype: int64"
      ]
     },
     "execution_count": 204,
     "metadata": {},
     "output_type": "execute_result"
    }
   ],
   "source": [
    "labels = model.labels_\n",
    "pd.Series(labels).value_counts()"
   ]
  },
  {
   "cell_type": "code",
   "execution_count": 205,
   "metadata": {},
   "outputs": [],
   "source": [
    "# Creating a column to indicate which cluster it was assigned to\n",
    "\n",
    "data_scaled['kmeans'] = labels"
   ]
  },
  {
   "cell_type": "code",
   "execution_count": 206,
   "metadata": {},
   "outputs": [
    {
     "data": {
      "text/html": [
       "<div>\n",
       "<style scoped>\n",
       "    .dataframe tbody tr th:only-of-type {\n",
       "        vertical-align: middle;\n",
       "    }\n",
       "\n",
       "    .dataframe tbody tr th {\n",
       "        vertical-align: top;\n",
       "    }\n",
       "\n",
       "    .dataframe thead th {\n",
       "        text-align: right;\n",
       "    }\n",
       "</style>\n",
       "<table border=\"1\" class=\"dataframe\">\n",
       "  <thead>\n",
       "    <tr style=\"text-align: right;\">\n",
       "      <th></th>\n",
       "      <th>orgyear</th>\n",
       "      <th>ctc</th>\n",
       "      <th>ctc_updated_year</th>\n",
       "      <th>Years_of_Experience</th>\n",
       "      <th>CTC_Category</th>\n",
       "      <th>mean3 ctc</th>\n",
       "      <th>Tier</th>\n",
       "      <th>tier_diff</th>\n",
       "      <th>kmeans</th>\n",
       "    </tr>\n",
       "  </thead>\n",
       "  <tbody>\n",
       "    <tr>\n",
       "      <th>0</th>\n",
       "      <td>0.254081</td>\n",
       "      <td>-0.160464</td>\n",
       "      <td>0.367231</td>\n",
       "      <td>-0.254081</td>\n",
       "      <td>-1.357661</td>\n",
       "      <td>-0.243003</td>\n",
       "      <td>0.893523</td>\n",
       "      <td>-1.184466e-02</td>\n",
       "      <td>12</td>\n",
       "    </tr>\n",
       "    <tr>\n",
       "      <th>1</th>\n",
       "      <td>0.713827</td>\n",
       "      <td>-0.545192</td>\n",
       "      <td>-0.439543</td>\n",
       "      <td>-0.713827</td>\n",
       "      <td>1.071782</td>\n",
       "      <td>-0.076305</td>\n",
       "      <td>0.893523</td>\n",
       "      <td>-6.357531e-01</td>\n",
       "      <td>20</td>\n",
       "    </tr>\n",
       "    <tr>\n",
       "      <th>2</th>\n",
       "      <td>0.024208</td>\n",
       "      <td>0.372236</td>\n",
       "      <td>0.367231</td>\n",
       "      <td>-0.024208</td>\n",
       "      <td>-0.142940</td>\n",
       "      <td>0.598280</td>\n",
       "      <td>-0.242706</td>\n",
       "      <td>-1.352966e-18</td>\n",
       "      <td>14</td>\n",
       "    </tr>\n",
       "    <tr>\n",
       "      <th>3</th>\n",
       "      <td>0.483954</td>\n",
       "      <td>-0.397219</td>\n",
       "      <td>-0.439543</td>\n",
       "      <td>-0.483954</td>\n",
       "      <td>1.071782</td>\n",
       "      <td>0.199183</td>\n",
       "      <td>0.893523</td>\n",
       "      <td>-6.656808e-01</td>\n",
       "      <td>20</td>\n",
       "    </tr>\n",
       "    <tr>\n",
       "      <th>4</th>\n",
       "      <td>0.483954</td>\n",
       "      <td>0.017103</td>\n",
       "      <td>-0.439543</td>\n",
       "      <td>-0.483954</td>\n",
       "      <td>-1.357661</td>\n",
       "      <td>-0.497640</td>\n",
       "      <td>-1.378935</td>\n",
       "      <td>4.173354e-01</td>\n",
       "      <td>2</td>\n",
       "    </tr>\n",
       "  </tbody>\n",
       "</table>\n",
       "</div>"
      ],
      "text/plain": [
       "    orgyear       ctc  ctc_updated_year  Years_of_Experience  CTC_Category  \\\n",
       "0  0.254081 -0.160464          0.367231            -0.254081     -1.357661   \n",
       "1  0.713827 -0.545192         -0.439543            -0.713827      1.071782   \n",
       "2  0.024208  0.372236          0.367231            -0.024208     -0.142940   \n",
       "3  0.483954 -0.397219         -0.439543            -0.483954      1.071782   \n",
       "4  0.483954  0.017103         -0.439543            -0.483954     -1.357661   \n",
       "\n",
       "   mean3 ctc      Tier     tier_diff  kmeans  \n",
       "0  -0.243003  0.893523 -1.184466e-02      12  \n",
       "1  -0.076305  0.893523 -6.357531e-01      20  \n",
       "2   0.598280 -0.242706 -1.352966e-18      14  \n",
       "3   0.199183  0.893523 -6.656808e-01      20  \n",
       "4  -0.497640 -1.378935  4.173354e-01       2  "
      ]
     },
     "execution_count": 206,
     "metadata": {},
     "output_type": "execute_result"
    }
   ],
   "source": [
    "data_scaled.head()"
   ]
  },
  {
   "cell_type": "markdown",
   "metadata": {},
   "source": [
    "Most of the employees are falling in cluster 8,20 and 1"
   ]
  },
  {
   "cell_type": "markdown",
   "metadata": {},
   "source": [
    "### Hierarchical Clustering"
   ]
  },
  {
   "cell_type": "code",
   "execution_count": 207,
   "metadata": {},
   "outputs": [],
   "source": [
    "from sklearn.cluster import AgglomerativeClustering\n",
    "from scipy.spatial.distance import euclidean\n",
    "import scipy.cluster.hierarchy as sch"
   ]
  },
  {
   "cell_type": "markdown",
   "metadata": {},
   "source": [
    "#### We will divide the data since the number of data points is large."
   ]
  },
  {
   "cell_type": "code",
   "execution_count": 233,
   "metadata": {},
   "outputs": [],
   "source": [
    "import numpy as np\n",
    "import pandas as pd\n",
    "from scipy.cluster import hierarchy as sch\n",
    "\n",
    "# Assuming data_scaled is your DataFrame\n",
    "total_rows, total_columns = data_scaled.shape\n",
    "num_parts = 6\n",
    "\n",
    "# Divide the DataFrame into multiple parts\n",
    "split_indices = np.array_split(np.arange(total_rows), num_parts)\n",
    "\n",
    "# Perform hierarchical clustering on each part separately\n",
    "Z_parts = []\n",
    "for indices in split_indices:\n",
    "    data_part = data_scaled.iloc[indices, :]\n",
    "    Z_part = sch.linkage(data_part, metric='euclidean', method='ward')\n",
    "    Z_parts.append(Z_part)\n",
    "\n",
    "# Combine the results if needed\n",
    "Z_combined = np.concatenate(Z_parts, axis=0)\n"
   ]
  },
  {
   "cell_type": "code",
   "execution_count": 237,
   "metadata": {},
   "outputs": [],
   "source": [
    "Z_combined_new=pd.DataFrame(Z_combined) #Converting to dataframe"
   ]
  },
  {
   "cell_type": "code",
   "execution_count": 238,
   "metadata": {},
   "outputs": [
    {
     "data": {
      "text/html": [
       "<div>\n",
       "<style scoped>\n",
       "    .dataframe tbody tr th:only-of-type {\n",
       "        vertical-align: middle;\n",
       "    }\n",
       "\n",
       "    .dataframe tbody tr th {\n",
       "        vertical-align: top;\n",
       "    }\n",
       "\n",
       "    .dataframe thead th {\n",
       "        text-align: right;\n",
       "    }\n",
       "</style>\n",
       "<table border=\"1\" class=\"dataframe\">\n",
       "  <thead>\n",
       "    <tr style=\"text-align: right;\">\n",
       "      <th></th>\n",
       "      <th>0</th>\n",
       "      <th>1</th>\n",
       "      <th>2</th>\n",
       "      <th>3</th>\n",
       "    </tr>\n",
       "  </thead>\n",
       "  <tbody>\n",
       "    <tr>\n",
       "      <th>0</th>\n",
       "      <td>2.0</td>\n",
       "      <td>7239.0</td>\n",
       "      <td>0.0</td>\n",
       "      <td>2.0</td>\n",
       "    </tr>\n",
       "    <tr>\n",
       "      <th>1</th>\n",
       "      <td>9.0</td>\n",
       "      <td>342.0</td>\n",
       "      <td>0.0</td>\n",
       "      <td>2.0</td>\n",
       "    </tr>\n",
       "    <tr>\n",
       "      <th>2</th>\n",
       "      <td>11.0</td>\n",
       "      <td>1552.0</td>\n",
       "      <td>0.0</td>\n",
       "      <td>2.0</td>\n",
       "    </tr>\n",
       "    <tr>\n",
       "      <th>3</th>\n",
       "      <td>12.0</td>\n",
       "      <td>25076.0</td>\n",
       "      <td>0.0</td>\n",
       "      <td>2.0</td>\n",
       "    </tr>\n",
       "    <tr>\n",
       "      <th>4</th>\n",
       "      <td>13.0</td>\n",
       "      <td>8971.0</td>\n",
       "      <td>0.0</td>\n",
       "      <td>2.0</td>\n",
       "    </tr>\n",
       "  </tbody>\n",
       "</table>\n",
       "</div>"
      ],
      "text/plain": [
       "      0        1    2    3\n",
       "0   2.0   7239.0  0.0  2.0\n",
       "1   9.0    342.0  0.0  2.0\n",
       "2  11.0   1552.0  0.0  2.0\n",
       "3  12.0  25076.0  0.0  2.0\n",
       "4  13.0   8971.0  0.0  2.0"
      ]
     },
     "execution_count": 238,
     "metadata": {},
     "output_type": "execute_result"
    }
   ],
   "source": [
    "Z_combined_new.head()"
   ]
  },
  {
   "cell_type": "code",
   "execution_count": 236,
   "metadata": {},
   "outputs": [
    {
     "data": {
      "text/plain": [
       "(156122, 4)"
      ]
     },
     "execution_count": 236,
     "metadata": {},
     "output_type": "execute_result"
    }
   ],
   "source": [
    "Z_combined.shape"
   ]
  },
  {
   "cell_type": "code",
   "execution_count": 216,
   "metadata": {},
   "outputs": [],
   "source": [
    "data_part['job_position'] = data['job_position']"
   ]
  },
  {
   "cell_type": "code",
   "execution_count": 217,
   "metadata": {},
   "outputs": [],
   "source": [
    "data_part.set_index('job_position',inplace=True)"
   ]
  },
  {
   "cell_type": "code",
   "execution_count": 218,
   "metadata": {},
   "outputs": [
    {
     "data": {
      "text/html": [
       "<div>\n",
       "<style scoped>\n",
       "    .dataframe tbody tr th:only-of-type {\n",
       "        vertical-align: middle;\n",
       "    }\n",
       "\n",
       "    .dataframe tbody tr th {\n",
       "        vertical-align: top;\n",
       "    }\n",
       "\n",
       "    .dataframe thead th {\n",
       "        text-align: right;\n",
       "    }\n",
       "</style>\n",
       "<table border=\"1\" class=\"dataframe\">\n",
       "  <thead>\n",
       "    <tr style=\"text-align: right;\">\n",
       "      <th></th>\n",
       "      <th>orgyear</th>\n",
       "      <th>ctc</th>\n",
       "      <th>ctc_updated_year</th>\n",
       "      <th>Years_of_Experience</th>\n",
       "      <th>CTC_Category</th>\n",
       "      <th>mean3 ctc</th>\n",
       "      <th>Tier</th>\n",
       "      <th>tier_diff</th>\n",
       "      <th>kmeans</th>\n",
       "    </tr>\n",
       "    <tr>\n",
       "      <th>job_position</th>\n",
       "      <th></th>\n",
       "      <th></th>\n",
       "      <th></th>\n",
       "      <th></th>\n",
       "      <th></th>\n",
       "      <th></th>\n",
       "      <th></th>\n",
       "      <th></th>\n",
       "      <th></th>\n",
       "    </tr>\n",
       "  </thead>\n",
       "  <tbody>\n",
       "    <tr>\n",
       "      <th>Data Analyst</th>\n",
       "      <td>-2.044648</td>\n",
       "      <td>1.171285</td>\n",
       "      <td>-0.439543</td>\n",
       "      <td>2.044648</td>\n",
       "      <td>-0.142940</td>\n",
       "      <td>0.427896</td>\n",
       "      <td>-1.378935</td>\n",
       "      <td>1.156067</td>\n",
       "      <td>26</td>\n",
       "    </tr>\n",
       "    <tr>\n",
       "      <th>Backend Engineer</th>\n",
       "      <td>-0.205665</td>\n",
       "      <td>-0.101275</td>\n",
       "      <td>-0.439543</td>\n",
       "      <td>0.205665</td>\n",
       "      <td>-1.357661</td>\n",
       "      <td>1.169071</td>\n",
       "      <td>0.893523</td>\n",
       "      <td>-1.058459</td>\n",
       "      <td>1</td>\n",
       "    </tr>\n",
       "    <tr>\n",
       "      <th>FullStack Engineer</th>\n",
       "      <td>0.943700</td>\n",
       "      <td>-0.338030</td>\n",
       "      <td>-0.439543</td>\n",
       "      <td>-0.943700</td>\n",
       "      <td>-1.357661</td>\n",
       "      <td>-0.568838</td>\n",
       "      <td>-1.378935</td>\n",
       "      <td>0.020294</td>\n",
       "      <td>2</td>\n",
       "    </tr>\n",
       "    <tr>\n",
       "      <th>Backend Engineer</th>\n",
       "      <td>0.254081</td>\n",
       "      <td>0.253858</td>\n",
       "      <td>-0.439543</td>\n",
       "      <td>-0.254081</td>\n",
       "      <td>-0.142940</td>\n",
       "      <td>-0.111995</td>\n",
       "      <td>-1.378935</td>\n",
       "      <td>0.413268</td>\n",
       "      <td>21</td>\n",
       "    </tr>\n",
       "    <tr>\n",
       "      <th>Backend Engineer</th>\n",
       "      <td>-1.584903</td>\n",
       "      <td>0.105886</td>\n",
       "      <td>-0.439543</td>\n",
       "      <td>1.584903</td>\n",
       "      <td>-0.142940</td>\n",
       "      <td>-0.055356</td>\n",
       "      <td>-1.378935</td>\n",
       "      <td>0.179245</td>\n",
       "      <td>22</td>\n",
       "    </tr>\n",
       "    <tr>\n",
       "      <th>...</th>\n",
       "      <td>...</td>\n",
       "      <td>...</td>\n",
       "      <td>...</td>\n",
       "      <td>...</td>\n",
       "      <td>...</td>\n",
       "      <td>...</td>\n",
       "      <td>...</td>\n",
       "      <td>...</td>\n",
       "      <td>...</td>\n",
       "    </tr>\n",
       "    <tr>\n",
       "      <th>Backend Engineer</th>\n",
       "      <td>-1.584903</td>\n",
       "      <td>-0.681325</td>\n",
       "      <td>-0.439543</td>\n",
       "      <td>1.584903</td>\n",
       "      <td>1.071782</td>\n",
       "      <td>0.389762</td>\n",
       "      <td>0.893523</td>\n",
       "      <td>-1.180040</td>\n",
       "      <td>28</td>\n",
       "    </tr>\n",
       "    <tr>\n",
       "      <th>Backend Engineer</th>\n",
       "      <td>0.483954</td>\n",
       "      <td>-0.515597</td>\n",
       "      <td>0.367231</td>\n",
       "      <td>-0.483954</td>\n",
       "      <td>1.071782</td>\n",
       "      <td>-0.003016</td>\n",
       "      <td>0.893523</td>\n",
       "      <td>-0.656195</td>\n",
       "      <td>8</td>\n",
       "    </tr>\n",
       "    <tr>\n",
       "      <th>Backend Engineer</th>\n",
       "      <td>1.403445</td>\n",
       "      <td>-0.397219</td>\n",
       "      <td>1.174005</td>\n",
       "      <td>-1.403445</td>\n",
       "      <td>1.071782</td>\n",
       "      <td>0.060360</td>\n",
       "      <td>0.893523</td>\n",
       "      <td>-0.555354</td>\n",
       "      <td>8</td>\n",
       "    </tr>\n",
       "    <tr>\n",
       "      <th>Other</th>\n",
       "      <td>0.943700</td>\n",
       "      <td>2.207089</td>\n",
       "      <td>-0.439543</td>\n",
       "      <td>-0.943700</td>\n",
       "      <td>-0.142940</td>\n",
       "      <td>-0.056897</td>\n",
       "      <td>-1.378935</td>\n",
       "      <td>2.864420</td>\n",
       "      <td>16</td>\n",
       "    </tr>\n",
       "    <tr>\n",
       "      <th>Backend Engineer</th>\n",
       "      <td>-0.205665</td>\n",
       "      <td>-0.077599</td>\n",
       "      <td>-2.859866</td>\n",
       "      <td>0.205665</td>\n",
       "      <td>-1.357661</td>\n",
       "      <td>0.799836</td>\n",
       "      <td>0.893523</td>\n",
       "      <td>-0.734776</td>\n",
       "      <td>18</td>\n",
       "    </tr>\n",
       "  </tbody>\n",
       "</table>\n",
       "<p>26021 rows × 9 columns</p>\n",
       "</div>"
      ],
      "text/plain": [
       "                     orgyear       ctc  ctc_updated_year  Years_of_Experience  \\\n",
       "job_position                                                                    \n",
       "Data Analyst       -2.044648  1.171285         -0.439543             2.044648   \n",
       "Backend Engineer   -0.205665 -0.101275         -0.439543             0.205665   \n",
       "FullStack Engineer  0.943700 -0.338030         -0.439543            -0.943700   \n",
       "Backend Engineer    0.254081  0.253858         -0.439543            -0.254081   \n",
       "Backend Engineer   -1.584903  0.105886         -0.439543             1.584903   \n",
       "...                      ...       ...               ...                  ...   \n",
       "Backend Engineer   -1.584903 -0.681325         -0.439543             1.584903   \n",
       "Backend Engineer    0.483954 -0.515597          0.367231            -0.483954   \n",
       "Backend Engineer    1.403445 -0.397219          1.174005            -1.403445   \n",
       "Other               0.943700  2.207089         -0.439543            -0.943700   \n",
       "Backend Engineer   -0.205665 -0.077599         -2.859866             0.205665   \n",
       "\n",
       "                    CTC_Category  mean3 ctc      Tier  tier_diff  kmeans  \n",
       "job_position                                                              \n",
       "Data Analyst           -0.142940   0.427896 -1.378935   1.156067      26  \n",
       "Backend Engineer       -1.357661   1.169071  0.893523  -1.058459       1  \n",
       "FullStack Engineer     -1.357661  -0.568838 -1.378935   0.020294       2  \n",
       "Backend Engineer       -0.142940  -0.111995 -1.378935   0.413268      21  \n",
       "Backend Engineer       -0.142940  -0.055356 -1.378935   0.179245      22  \n",
       "...                          ...        ...       ...        ...     ...  \n",
       "Backend Engineer        1.071782   0.389762  0.893523  -1.180040      28  \n",
       "Backend Engineer        1.071782  -0.003016  0.893523  -0.656195       8  \n",
       "Backend Engineer        1.071782   0.060360  0.893523  -0.555354       8  \n",
       "Other                  -0.142940  -0.056897 -1.378935   2.864420      16  \n",
       "Backend Engineer       -1.357661   0.799836  0.893523  -0.734776      18  \n",
       "\n",
       "[26021 rows x 9 columns]"
      ]
     },
     "execution_count": 218,
     "metadata": {},
     "output_type": "execute_result"
    }
   ],
   "source": [
    "data_part"
   ]
  },
  {
   "cell_type": "code",
   "execution_count": 225,
   "metadata": {},
   "outputs": [],
   "source": [
    "hc = AgglomerativeClustering(n_clusters=5,affinity='euclidean',linkage='ward')\n",
    "lables = hc.fit_predict(data_part)"
   ]
  },
  {
   "cell_type": "code",
   "execution_count": 226,
   "metadata": {},
   "outputs": [
    {
     "data": {
      "text/plain": [
       "array([3, 0, 0, ..., 2, 4, 1], dtype=int64)"
      ]
     },
     "execution_count": 226,
     "metadata": {},
     "output_type": "execute_result"
    }
   ],
   "source": [
    "lables"
   ]
  },
  {
   "cell_type": "code",
   "execution_count": 227,
   "metadata": {},
   "outputs": [],
   "source": [
    "data_part['labels'] = lables"
   ]
  },
  {
   "cell_type": "code",
   "execution_count": 228,
   "metadata": {},
   "outputs": [
    {
     "data": {
      "text/html": [
       "<div>\n",
       "<style scoped>\n",
       "    .dataframe tbody tr th:only-of-type {\n",
       "        vertical-align: middle;\n",
       "    }\n",
       "\n",
       "    .dataframe tbody tr th {\n",
       "        vertical-align: top;\n",
       "    }\n",
       "\n",
       "    .dataframe thead th {\n",
       "        text-align: right;\n",
       "    }\n",
       "</style>\n",
       "<table border=\"1\" class=\"dataframe\">\n",
       "  <thead>\n",
       "    <tr style=\"text-align: right;\">\n",
       "      <th></th>\n",
       "      <th>orgyear</th>\n",
       "      <th>ctc</th>\n",
       "      <th>ctc_updated_year</th>\n",
       "      <th>Years_of_Experience</th>\n",
       "      <th>CTC_Category</th>\n",
       "      <th>mean3 ctc</th>\n",
       "      <th>Tier</th>\n",
       "      <th>tier_diff</th>\n",
       "      <th>kmeans</th>\n",
       "      <th>labels</th>\n",
       "    </tr>\n",
       "    <tr>\n",
       "      <th>job_position</th>\n",
       "      <th></th>\n",
       "      <th></th>\n",
       "      <th></th>\n",
       "      <th></th>\n",
       "      <th></th>\n",
       "      <th></th>\n",
       "      <th></th>\n",
       "      <th></th>\n",
       "      <th></th>\n",
       "      <th></th>\n",
       "    </tr>\n",
       "  </thead>\n",
       "  <tbody>\n",
       "    <tr>\n",
       "      <th>Data Analyst</th>\n",
       "      <td>-2.044648</td>\n",
       "      <td>1.171285</td>\n",
       "      <td>-0.439543</td>\n",
       "      <td>2.044648</td>\n",
       "      <td>-0.142940</td>\n",
       "      <td>0.427896</td>\n",
       "      <td>-1.378935</td>\n",
       "      <td>1.156067</td>\n",
       "      <td>26</td>\n",
       "      <td>3</td>\n",
       "    </tr>\n",
       "    <tr>\n",
       "      <th>Backend Engineer</th>\n",
       "      <td>-0.205665</td>\n",
       "      <td>-0.101275</td>\n",
       "      <td>-0.439543</td>\n",
       "      <td>0.205665</td>\n",
       "      <td>-1.357661</td>\n",
       "      <td>1.169071</td>\n",
       "      <td>0.893523</td>\n",
       "      <td>-1.058459</td>\n",
       "      <td>1</td>\n",
       "      <td>0</td>\n",
       "    </tr>\n",
       "    <tr>\n",
       "      <th>FullStack Engineer</th>\n",
       "      <td>0.943700</td>\n",
       "      <td>-0.338030</td>\n",
       "      <td>-0.439543</td>\n",
       "      <td>-0.943700</td>\n",
       "      <td>-1.357661</td>\n",
       "      <td>-0.568838</td>\n",
       "      <td>-1.378935</td>\n",
       "      <td>0.020294</td>\n",
       "      <td>2</td>\n",
       "      <td>0</td>\n",
       "    </tr>\n",
       "    <tr>\n",
       "      <th>Backend Engineer</th>\n",
       "      <td>0.254081</td>\n",
       "      <td>0.253858</td>\n",
       "      <td>-0.439543</td>\n",
       "      <td>-0.254081</td>\n",
       "      <td>-0.142940</td>\n",
       "      <td>-0.111995</td>\n",
       "      <td>-1.378935</td>\n",
       "      <td>0.413268</td>\n",
       "      <td>21</td>\n",
       "      <td>1</td>\n",
       "    </tr>\n",
       "    <tr>\n",
       "      <th>Backend Engineer</th>\n",
       "      <td>-1.584903</td>\n",
       "      <td>0.105886</td>\n",
       "      <td>-0.439543</td>\n",
       "      <td>1.584903</td>\n",
       "      <td>-0.142940</td>\n",
       "      <td>-0.055356</td>\n",
       "      <td>-1.378935</td>\n",
       "      <td>0.179245</td>\n",
       "      <td>22</td>\n",
       "      <td>1</td>\n",
       "    </tr>\n",
       "    <tr>\n",
       "      <th>...</th>\n",
       "      <td>...</td>\n",
       "      <td>...</td>\n",
       "      <td>...</td>\n",
       "      <td>...</td>\n",
       "      <td>...</td>\n",
       "      <td>...</td>\n",
       "      <td>...</td>\n",
       "      <td>...</td>\n",
       "      <td>...</td>\n",
       "      <td>...</td>\n",
       "    </tr>\n",
       "    <tr>\n",
       "      <th>Backend Engineer</th>\n",
       "      <td>-1.584903</td>\n",
       "      <td>-0.681325</td>\n",
       "      <td>-0.439543</td>\n",
       "      <td>1.584903</td>\n",
       "      <td>1.071782</td>\n",
       "      <td>0.389762</td>\n",
       "      <td>0.893523</td>\n",
       "      <td>-1.180040</td>\n",
       "      <td>28</td>\n",
       "      <td>3</td>\n",
       "    </tr>\n",
       "    <tr>\n",
       "      <th>Backend Engineer</th>\n",
       "      <td>0.483954</td>\n",
       "      <td>-0.515597</td>\n",
       "      <td>0.367231</td>\n",
       "      <td>-0.483954</td>\n",
       "      <td>1.071782</td>\n",
       "      <td>-0.003016</td>\n",
       "      <td>0.893523</td>\n",
       "      <td>-0.656195</td>\n",
       "      <td>8</td>\n",
       "      <td>2</td>\n",
       "    </tr>\n",
       "    <tr>\n",
       "      <th>Backend Engineer</th>\n",
       "      <td>1.403445</td>\n",
       "      <td>-0.397219</td>\n",
       "      <td>1.174005</td>\n",
       "      <td>-1.403445</td>\n",
       "      <td>1.071782</td>\n",
       "      <td>0.060360</td>\n",
       "      <td>0.893523</td>\n",
       "      <td>-0.555354</td>\n",
       "      <td>8</td>\n",
       "      <td>2</td>\n",
       "    </tr>\n",
       "    <tr>\n",
       "      <th>Other</th>\n",
       "      <td>0.943700</td>\n",
       "      <td>2.207089</td>\n",
       "      <td>-0.439543</td>\n",
       "      <td>-0.943700</td>\n",
       "      <td>-0.142940</td>\n",
       "      <td>-0.056897</td>\n",
       "      <td>-1.378935</td>\n",
       "      <td>2.864420</td>\n",
       "      <td>16</td>\n",
       "      <td>4</td>\n",
       "    </tr>\n",
       "    <tr>\n",
       "      <th>Backend Engineer</th>\n",
       "      <td>-0.205665</td>\n",
       "      <td>-0.077599</td>\n",
       "      <td>-2.859866</td>\n",
       "      <td>0.205665</td>\n",
       "      <td>-1.357661</td>\n",
       "      <td>0.799836</td>\n",
       "      <td>0.893523</td>\n",
       "      <td>-0.734776</td>\n",
       "      <td>18</td>\n",
       "      <td>1</td>\n",
       "    </tr>\n",
       "  </tbody>\n",
       "</table>\n",
       "<p>26021 rows × 10 columns</p>\n",
       "</div>"
      ],
      "text/plain": [
       "                     orgyear       ctc  ctc_updated_year  Years_of_Experience  \\\n",
       "job_position                                                                    \n",
       "Data Analyst       -2.044648  1.171285         -0.439543             2.044648   \n",
       "Backend Engineer   -0.205665 -0.101275         -0.439543             0.205665   \n",
       "FullStack Engineer  0.943700 -0.338030         -0.439543            -0.943700   \n",
       "Backend Engineer    0.254081  0.253858         -0.439543            -0.254081   \n",
       "Backend Engineer   -1.584903  0.105886         -0.439543             1.584903   \n",
       "...                      ...       ...               ...                  ...   \n",
       "Backend Engineer   -1.584903 -0.681325         -0.439543             1.584903   \n",
       "Backend Engineer    0.483954 -0.515597          0.367231            -0.483954   \n",
       "Backend Engineer    1.403445 -0.397219          1.174005            -1.403445   \n",
       "Other               0.943700  2.207089         -0.439543            -0.943700   \n",
       "Backend Engineer   -0.205665 -0.077599         -2.859866             0.205665   \n",
       "\n",
       "                    CTC_Category  mean3 ctc      Tier  tier_diff  kmeans  \\\n",
       "job_position                                                               \n",
       "Data Analyst           -0.142940   0.427896 -1.378935   1.156067      26   \n",
       "Backend Engineer       -1.357661   1.169071  0.893523  -1.058459       1   \n",
       "FullStack Engineer     -1.357661  -0.568838 -1.378935   0.020294       2   \n",
       "Backend Engineer       -0.142940  -0.111995 -1.378935   0.413268      21   \n",
       "Backend Engineer       -0.142940  -0.055356 -1.378935   0.179245      22   \n",
       "...                          ...        ...       ...        ...     ...   \n",
       "Backend Engineer        1.071782   0.389762  0.893523  -1.180040      28   \n",
       "Backend Engineer        1.071782  -0.003016  0.893523  -0.656195       8   \n",
       "Backend Engineer        1.071782   0.060360  0.893523  -0.555354       8   \n",
       "Other                  -0.142940  -0.056897 -1.378935   2.864420      16   \n",
       "Backend Engineer       -1.357661   0.799836  0.893523  -0.734776      18   \n",
       "\n",
       "                    labels  \n",
       "job_position                \n",
       "Data Analyst             3  \n",
       "Backend Engineer         0  \n",
       "FullStack Engineer       0  \n",
       "Backend Engineer         1  \n",
       "Backend Engineer         1  \n",
       "...                    ...  \n",
       "Backend Engineer         3  \n",
       "Backend Engineer         2  \n",
       "Backend Engineer         2  \n",
       "Other                    4  \n",
       "Backend Engineer         1  \n",
       "\n",
       "[26021 rows x 10 columns]"
      ]
     },
     "execution_count": 228,
     "metadata": {},
     "output_type": "execute_result"
    }
   ],
   "source": [
    "data_part"
   ]
  },
  {
   "cell_type": "code",
   "execution_count": 229,
   "metadata": {},
   "outputs": [
    {
     "data": {
      "text/plain": [
       "1    6968\n",
       "0    6944\n",
       "2    5324\n",
       "3    4592\n",
       "4    2193\n",
       "Name: labels, dtype: int64"
      ]
     },
     "execution_count": 229,
     "metadata": {},
     "output_type": "execute_result"
    }
   ],
   "source": [
    "data_part['labels'].value_counts()"
   ]
  },
  {
   "cell_type": "code",
   "execution_count": 230,
   "metadata": {},
   "outputs": [],
   "source": [
    "y_pred = hc.fit_predict(data_part)"
   ]
  },
  {
   "cell_type": "markdown",
   "metadata": {},
   "source": [
    "#### Plotingt a line graph to see the characteristics of the clusters"
   ]
  },
  {
   "cell_type": "code",
   "execution_count": 231,
   "metadata": {},
   "outputs": [
    {
     "data": {
      "text/plain": [
       "<matplotlib.legend.Legend at 0x29ab5500220>"
      ]
     },
     "execution_count": 231,
     "metadata": {},
     "output_type": "execute_result"
    },
    {
     "data": {
      "image/png": "[encoded data removed]",
      "text/plain": [
       "<Figure size 1008x576 with 1 Axes>"
      ]
     },
     "metadata": {
      "needs_background": "light"
     },
     "output_type": "display_data"
    }
   ],
   "source": [
    "data_part['label'] = pd.Series(y_pred, index=data_part.index)\n",
    "\n",
    "clustered_df = data_part.groupby('label').mean()\n",
    "\n",
    "labels = ['Cluster 1', 'Cluster 2', 'Cluster 3', 'Cluster 4', 'Cluster 5']\n",
    "\n",
    "plt.figure(figsize=(14,8))\n",
    "plt.plot(clustered_df.T, label=labels)\n",
    "plt.xticks(rotation=90)\n",
    "plt.legend(labels)"
   ]
  },
  {
   "cell_type": "code",
   "execution_count": null,
   "metadata": {},
   "outputs": [],
   "source": []
  },
  {
   "cell_type": "markdown",
   "metadata": {},
   "source": [
    "### Insights"
   ]
  },
  {
   "cell_type": "markdown",
   "metadata": {},
   "source": [
    "#### 1) Top Paying job titles are Engineering Leadership, SDET, Backend Engineer, Data Scientist, Product and FullStack Engineer.\n",
    "#### 2) Most employees are Backend Engineer followed up by Front Engineer in the data.\n",
    "#### 3) After 2019 less employees got their ctc updated mainly due to recession/covid. The average ctc is descreasing year by year.\n",
    "#### 4) Engineering leadership and Android Engineer are top 2 positions in every company which has highest CTC.\n",
    "#### 5) Optimal number of clusters are around 16-20 on scaled data. Thus we can group the employees in 16 different clusters."
   ]
  },
  {
   "cell_type": "markdown",
   "metadata": {},
   "source": [
    "### Recommendations"
   ]
  },
  {
   "cell_type": "markdown",
   "metadata": {},
   "source": [
    "#### 1) Employees who want to start their career or switch their careers can target job positions like SDET, Backend Engineer, Data Scientist.\n",
    "#### 2) Since incrementing ctc is decreasing year on year employees can try to switch their companies after 2-3 years."
   ]
  }
 ],
 "metadata": {
  "kernelspec": {
   "display_name": "Python 3",
   "language": "python",
   "name": "python3"
  },
  "language_info": {
   "codemirror_mode": {
    "name": "ipython",
    "version": 3
   },
   "file_extension": ".py",
   "mimetype": "text/x-python",
   "name": "python",
   "nbconvert_exporter": "python",
   "pygments_lexer": "ipython3",
   "version": "3.8.3"
  }
 },
 "nbformat": 4,
 "nbformat_minor": 4
}
